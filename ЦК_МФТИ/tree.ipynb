{
  "cells": [
    {
      "cell_type": "markdown",
      "metadata": {
        "id": "view-in-github",
        "colab_type": "text"
      },
      "source": [
        "<a href=\"https://colab.research.google.com/github/Macleyn/ML/blob/main/%D0%A6%D0%9A_%D0%9C%D0%A4%D0%A2%D0%98/tree.ipynb\" target=\"_parent\"><img src=\"https://colab.research.google.com/assets/colab-badge.svg\" alt=\"Open In Colab\"/></a>"
      ]
    },
    {
      "cell_type": "code",
      "source": [
        "import numpy as np\n",
        "from sklearn.base import BaseEstimator\n",
        "\n",
        "\n",
        "def entropy(y):\n",
        "    \"\"\"\n",
        "    Computes entropy of the provided distribution. Use log(value + eps) for numerical stability\n",
        "\n",
        "    Parameters\n",
        "    ----------\n",
        "    y : np.array of type float with shape (n_objects, n_classes)\n",
        "        One-hot representation of class labels for corresponding subset\n",
        "\n",
        "    Returns\n",
        "    -------\n",
        "    float\n",
        "        Entropy of the provided subset\n",
        "    \"\"\"\n",
        "    EPS = 0.0005\n",
        "\n",
        "    # YOUR CODE HERE\n",
        "\n",
        "    prob = y.mean(axis = 0)\n",
        "    prob = prob / prob.sum()\n",
        "    H = -np.sum(prob * np.log(prob + EPS))\n",
        "    return H\n",
        "\n",
        "def gini(y):\n",
        "    \"\"\"\n",
        "    Computes the Gini impurity of the provided distribution\n",
        "\n",
        "    Parameters\n",
        "    ----------\n",
        "    y : np.array of type float with shape (n_objects, n_classes)\n",
        "        One-hot representation of class labels for corresponding subset\n",
        "\n",
        "    Returns\n",
        "    -------\n",
        "    float\n",
        "        Gini impurity of the provided subset\n",
        "    \"\"\"\n",
        "\n",
        "    # YOUR CODE HERE\n",
        "\n",
        "    prob = y.mean(axis = 0)\n",
        "    prob = prob / prob.sum()\n",
        "    G = 1 - (prob ** 2).sum()\n",
        "    return G\n",
        "\n",
        "def variance(y):\n",
        "    \"\"\"\n",
        "    Computes the variance the provided target values subset\n",
        "\n",
        "    Parameters\n",
        "    ----------\n",
        "    y : np.array of type float with shape (n_objects, 1)\n",
        "        Target values vector\n",
        "\n",
        "    Returns\n",
        "    -------\n",
        "    float\n",
        "        Variance of the provided target vector\n",
        "    \"\"\"\n",
        "\n",
        "    # YOUR CODE HERE\n",
        "\n",
        "    return np.var(y)\n",
        "\n",
        "def mad_median(y):\n",
        "    \"\"\"\n",
        "    Computes the mean absolute deviation from the median in the\n",
        "    provided target values subset\n",
        "\n",
        "    Parameters\n",
        "    ----------\n",
        "    y : np.array of type float with shape (n_objects, 1)\n",
        "        Target values vector\n",
        "\n",
        "    Returns\n",
        "    -------\n",
        "    float\n",
        "        Mean absolute deviation from the median in the provided vector\n",
        "    \"\"\"\n",
        "\n",
        "    # YOUR CODE HERE\n",
        "\n",
        "    delta = np.abs(y - np.median(y))\n",
        "    return delta.mean()\n",
        "\n",
        "\n",
        "def one_hot_encode(n_classes, y):\n",
        "    y_one_hot = np.zeros((len(y), n_classes), dtype=float)\n",
        "    y_one_hot[np.arange(len(y)), y.astype(int)[:, 0]] = 1.\n",
        "    return y_one_hot\n",
        "\n",
        "\n",
        "def one_hot_decode(y_one_hot):\n",
        "    return y_one_hot.argmax(axis=1)[:, None]\n",
        "\n",
        "\n",
        "class Node:\n",
        "    \"\"\"\n",
        "    This class is provided \"as is\" and it is not mandatory to it use in your code.\n",
        "    \"\"\"\n",
        "    def __init__(self, feature_index, threshold, proba=0):\n",
        "        self.feature_index = feature_index\n",
        "        self.value = threshold\n",
        "        self.proba = proba\n",
        "        self.left_child = None\n",
        "        self.right_child = None\n",
        "\n",
        "\n",
        "class DecisionTree(BaseEstimator):\n",
        "    all_criterions = {\n",
        "        'gini': (gini, True), # (criterion, classification flag)\n",
        "        'entropy': (entropy, True),\n",
        "        'variance': (variance, False),\n",
        "        'mad_median': (mad_median, False)\n",
        "    }\n",
        "\n",
        "    def __init__(self, n_classes=None, max_depth=np.inf, min_samples_split=2,\n",
        "                 criterion_name='gini', debug=False):\n",
        "\n",
        "        assert criterion_name in self.all_criterions.keys(), 'Criterion name must be on of the following: {}'.format(self.all_criterions.keys())\n",
        "\n",
        "        self.n_classes = n_classes\n",
        "        self.max_depth = max_depth\n",
        "        self.min_samples_split = min_samples_split\n",
        "        self.criterion_name = criterion_name\n",
        "\n",
        "        self.depth = 0\n",
        "        self.root = None # Use the Node class to initialize it later\n",
        "        self.debug = debug\n",
        "\n",
        "\n",
        "\n",
        "    def make_split(self, feature_index, threshold, X_subset, y_subset):\n",
        "        \"\"\"\n",
        "        Makes split of the provided data subset and target values using provided feature and threshold\n",
        "\n",
        "        Parameters\n",
        "        ----------\n",
        "        feature_index : int\n",
        "            Index of feature to make split with\n",
        "\n",
        "        threshold : float\n",
        "            Threshold value to perform split\n",
        "\n",
        "        X_subset : np.array of type float with shape (n_objects, n_features)\n",
        "            Feature matrix representing the selected subset\n",
        "\n",
        "        y_subset : np.array of type float with shape (n_objects, n_classes) in classification\n",
        "                   (n_objects, 1) in regression\n",
        "            One-hot representation of class labels for corresponding subset\n",
        "\n",
        "        Returns\n",
        "        -------\n",
        "        (X_left, y_left) : tuple of np.arrays of same type as input X_subset and y_subset\n",
        "            Part of the providev subset where selected feature x^j < threshold\n",
        "        (X_right, y_right) : tuple of np.arrays of same type as input X_subset and y_subset\n",
        "            Part of the providev subset where selected feature x^j >= threshold\n",
        "        \"\"\"\n",
        "\n",
        "        # YOUR CODE HERE\n",
        "\n",
        "        mask = X_subset[:, feature_index] < threshold\n",
        "        X_left = X_subset[mask]\n",
        "        y_left = y_subset[mask]\n",
        "        X_right = X_subset[~mask]\n",
        "        y_right = y_subset[~mask]\n",
        "        return (X_left, y_left), (X_right, y_right)\n",
        "\n",
        "    def make_split_only_y(self, feature_index, threshold, X_subset, y_subset):\n",
        "        \"\"\"\n",
        "        Split only target values into two subsets with specified feature and threshold\n",
        "\n",
        "        Parameters\n",
        "        ----------\n",
        "        feature_index : int\n",
        "            Index of feature to make split with\n",
        "\n",
        "        threshold : float\n",
        "            Threshold value to perform split\n",
        "\n",
        "        X_subset : np.array of type float with shape (n_objects, n_features)\n",
        "            Feature matrix representing the selected subset\n",
        "\n",
        "        y_subset : np.array of type float with shape (n_objects, n_classes) in classification\n",
        "                   (n_objects, 1) in regression\n",
        "            One-hot representation of class labels for corresponding subset\n",
        "\n",
        "        Returns\n",
        "        -------\n",
        "        y_left : np.array of type float with shape (n_objects_left, n_classes) in classification\n",
        "                   (n_objects, 1) in regression\n",
        "            Part of the provided subset where selected feature x^j < threshold\n",
        "\n",
        "        y_right : np.array of type float with shape (n_objects_right, n_classes) in classification\n",
        "                   (n_objects, 1) in regression\n",
        "            Part of the provided subset where selected feature x^j >= threshold\n",
        "        \"\"\"\n",
        "\n",
        "        # YOUR CODE HERE\n",
        "\n",
        "        mask = X_subset[:, feature_index] < threshold\n",
        "        y_left = y_subset[mask]\n",
        "        y_right = y_subset[~mask]\n",
        "        return y_left, y_right\n",
        "\n",
        "    def choose_best_split(self, X_subset, y_subset):\n",
        "        \"\"\"\n",
        "        Greedily select the best feature and best threshold w.r.t. selected criterion\n",
        "\n",
        "        Parameters\n",
        "        ----------\n",
        "        X_subset : np.array of type float with shape (n_objects, n_features)\n",
        "            Feature matrix representing the selected subset\n",
        "\n",
        "        y_subset : np.array of type float with shape (n_objects, n_classes) in classification\n",
        "                   (n_objects, 1) in regression\n",
        "            One-hot representation of class labels or target values for corresponding subset\n",
        "\n",
        "        Returns\n",
        "        -------\n",
        "        feature_index : int\n",
        "            Index of feature to make split with\n",
        "\n",
        "        threshold : float\n",
        "            Threshold value to perform split\n",
        "\n",
        "        \"\"\"\n",
        "        # YOUR CODE HERE\n",
        "\n",
        "        best_gain = -np.inf\n",
        "        best_threshold = None\n",
        "        best_feature = None\n",
        "\n",
        "        for feature_index in range(X_subset.shape[1]):\n",
        "          feature_values = np.unique(X_subset[:,feature_index])\n",
        "          for threshold in feature_values:\n",
        "            y_left, y_right = self.make_split_only_y(feature_index, threshold, X_subset, y_subset)\n",
        "\n",
        "            if len(y_left) == 0 or len(y_right) == 0:\n",
        "                continue\n",
        "\n",
        "            cur_gain = self.criterion(y_subset) - (len(y_left)/len(y_subset) * self.criterion(y_left) + len(y_right)/len(y_subset) * self.criterion(y_right))\n",
        "\n",
        "            if cur_gain > best_gain:\n",
        "              best_gain = cur_gain\n",
        "              best_threshold = threshold\n",
        "              best_feature = feature_index\n",
        "\n",
        "        return best_feature, best_threshold\n",
        "\n",
        "    def make_tree(self, X_subset, y_subset):\n",
        "        \"\"\"\n",
        "        Recursively builds the tree\n",
        "\n",
        "        Parameters\n",
        "        ----------\n",
        "        X_subset : np.array of type float with shape (n_objects, n_features)\n",
        "            Feature matrix representing the selected subset\n",
        "\n",
        "        y_subset : np.array of type float with shape (n_objects, n_classes) in classification\n",
        "                   (n_objects, 1) in regression\n",
        "            One-hot representation of class labels or target values for corresponding subset\n",
        "\n",
        "        Returns\n",
        "        -------\n",
        "        root_node : Node class instance\n",
        "            Node of the root of the fitted tree\n",
        "        \"\"\"\n",
        "\n",
        "        # YOUR CODE HERE\n",
        "\n",
        "        feature_index, threshold = self.choose_best_split(X_subset, y_subset)\n",
        "\n",
        "        if feature_index is None:\n",
        "            proba = None\n",
        "            if self.classification:\n",
        "                proba = y_subset.mean(axis=0)\n",
        "                value = np.argmax(proba)\n",
        "            else:\n",
        "                value = np.mean(y_subset)\n",
        "            return Node(None, value, proba)\n",
        "\n",
        "        node = Node(feature_index, threshold)\n",
        "        (X_left, y_left), (X_right, y_right) = self.make_split(feature_index, threshold, X_subset, y_subset)\n",
        "\n",
        "        node.left_child = self.make_tree(X_left, y_left)\n",
        "        node.right_child = self.make_tree(X_right, y_right)\n",
        "\n",
        "        return node\n",
        "\n",
        "    def fit(self, X, y):\n",
        "        \"\"\"\n",
        "        Fit the model from scratch using the provided data\n",
        "\n",
        "        Parameters\n",
        "        ----------\n",
        "        X : np.array of type float with shape (n_objects, n_features)\n",
        "            Feature matrix representing the data to train on\n",
        "\n",
        "        y : np.array of type int with shape (n_objects, 1) in classification\n",
        "                   of type float with shape (n_objects, 1) in regression\n",
        "            Column vector of class labels in classification or target values in regression\n",
        "\n",
        "        \"\"\"\n",
        "        assert len(y.shape) == 2 and len(y) == len(X), 'Wrong y shape'\n",
        "        self.criterion, self.classification = self.all_criterions[self.criterion_name]\n",
        "        if self.classification:\n",
        "            if self.n_classes is None:\n",
        "                self.n_classes = len(np.unique(y))\n",
        "            y = one_hot_encode(self.n_classes, y)\n",
        "\n",
        "        self.root = self.make_tree(X, y)\n",
        "\n",
        "    def predict(self, X):\n",
        "        \"\"\"\n",
        "        Predict the target value or class label  the model from scratch using the provided data\n",
        "\n",
        "        Parameters\n",
        "        ----------\n",
        "        X : np.array of type float with shape (n_objects, n_features)\n",
        "            Feature matrix representing the data the predictions should be provided for\n",
        "\n",
        "        Returns\n",
        "        -------\n",
        "        y_predicted : np.array of type int with shape (n_objects, 1) in classification\n",
        "                   (n_objects, 1) in regression\n",
        "            Column vector of class labels in classification or target values in regression\n",
        "\n",
        "        \"\"\"\n",
        "\n",
        "        # YOUR CODE HERE\n",
        "\n",
        "        predictions = []\n",
        "        for x in X:\n",
        "          node = self.root\n",
        "          while node.left_child:  # While not leaf\n",
        "              if x[node.feature_index] < node.value:\n",
        "                  node = node.left_child\n",
        "              else:\n",
        "                  node = node.right_child\n",
        "          predictions.append(node.value)\n",
        "\n",
        "        return np.array(predictions).reshape(-1, 1)\n",
        "\n",
        "    def predict_proba(self, X):\n",
        "        \"\"\"\n",
        "        Only for classification\n",
        "        Predict the class probabilities using the provided data\n",
        "\n",
        "        Parameters\n",
        "        ----------\n",
        "        X : np.array of type float with shape (n_objects, n_features)\n",
        "            Feature matrix representing the data the predictions should be provided for\n",
        "\n",
        "        Returns\n",
        "        -------\n",
        "        y_predicted_probs : np.array of type float with shape (n_objects, n_classes)\n",
        "            Probabilities of each class for the provided objects\n",
        "\n",
        "        \"\"\"\n",
        "        assert self.classification, 'Available only for classification problem'\n",
        "\n",
        "        # YOUR CODE HERE\n",
        "\n",
        "        probas = []\n",
        "        for x in X:\n",
        "          node = self.root\n",
        "          while node.left_child:  # While not leaf\n",
        "              if x[node.feature_index] < node.value:\n",
        "                  node = node.left_child\n",
        "              else:\n",
        "                  node = node.right_child\n",
        "                  probas.append(node.proba)\n",
        "\n",
        "        return np.array(probas)"
      ],
      "metadata": {
        "id": "gwstv_Z-njj-"
      },
      "execution_count": 5,
      "outputs": []
    }
  ],
  "metadata": {
    "anaconda-cloud": {},
    "celltoolbar": "Слайд-шоу",
    "colab": {
      "provenance": [],
      "include_colab_link": true
    },
    "kernelspec": {
      "display_name": "Python 3 (ipykernel)",
      "language": "python",
      "name": "python3"
    },
    "language_info": {
      "codemirror_mode": {
        "name": "ipython",
        "version": 3
      },
      "file_extension": ".py",
      "mimetype": "text/x-python",
      "name": "python",
      "nbconvert_exporter": "python",
      "pygments_lexer": "ipython3",
      "version": "3.8.10"
    },
    "livereveal": {
      "scroll": true,
      "theme": "simple",
      "transition": "convex"
    },
    "nbpresent": {
      "slides": {
        "1ffee25c-251f-4cbf-af3d-a1d5521081b9": {
          "id": "1ffee25c-251f-4cbf-af3d-a1d5521081b9",
          "prev": "eb43fa9f-eb7c-417b-ab1a-99371ff452e2",
          "regions": {
            "2e1a7b46-c253-4096-a0a5-dfbc6cfb086e": {
              "attrs": {
                "height": 0.8,
                "width": 0.8,
                "x": 0.1,
                "y": 0.1
              },
              "content": {
                "cell": "bf40e897-f1f8-4e69-b826-fe53fb761aad",
                "part": "whole"
              },
              "id": "2e1a7b46-c253-4096-a0a5-dfbc6cfb086e"
            }
          }
        },
        "37c43f64-6426-4a98-8de1-a6ca1dd72190": {
          "id": "37c43f64-6426-4a98-8de1-a6ca1dd72190",
          "prev": "d2b700ea-e44e-4bed-9ce4-ddf1532b44cb",
          "regions": {
            "45a20e24-b33f-4c55-8df2-e96075b5e2af": {
              "attrs": {
                "height": 0.8,
                "width": 0.8,
                "x": 0.1,
                "y": 0.1
              },
              "content": {
                "cell": "e730e690-97c9-4acd-bf81-4c5ab0bbd48e",
                "part": "whole"
              },
              "id": "45a20e24-b33f-4c55-8df2-e96075b5e2af"
            }
          }
        },
        "5bf0841a-23d1-413e-a557-911111e3e336": {
          "id": "5bf0841a-23d1-413e-a557-911111e3e336",
          "prev": "ebd3a807-2380-4bd6-8e58-c9424f3ed713",
          "regions": {
            "3c8adac9-5366-49e9-96ab-965c77e83485": {
              "attrs": {
                "height": 0.8,
                "width": 0.8,
                "x": 0.1,
                "y": 0.1
              },
              "content": {
                "cell": "2e08a439-2699-4ecf-9189-dfbbf745ad4e",
                "part": "whole"
              },
              "id": "3c8adac9-5366-49e9-96ab-965c77e83485"
            }
          }
        },
        "60ffd9bc-f20d-41e5-8771-5f11695177c6": {
          "id": "60ffd9bc-f20d-41e5-8771-5f11695177c6",
          "prev": "97575fe4-de27-4833-b616-7479f99519d0",
          "regions": {
            "807a955a-60c8-4f03-8734-54dfd52113d6": {
              "attrs": {
                "height": 0.8,
                "width": 0.8,
                "x": 0.1,
                "y": 0.1
              },
              "content": {
                "cell": "795c8121-f820-4edc-aeba-fc399b38f4b2",
                "part": "whole"
              },
              "id": "807a955a-60c8-4f03-8734-54dfd52113d6"
            }
          }
        },
        "623d8bc9-43df-451f-b862-76c2b54708ea": {
          "id": "623d8bc9-43df-451f-b862-76c2b54708ea",
          "prev": "eded54a5-7710-4ab6-8229-3ca4029d1ae7",
          "regions": {
            "42b1d4d4-2905-454b-b564-92f58dec8f81": {
              "attrs": {
                "height": 0.8,
                "width": 0.8,
                "x": 0.1,
                "y": 0.1
              },
              "content": {
                "cell": "16fd05b0-8ac8-4da2-8980-54d0d253d110",
                "part": "whole"
              },
              "id": "42b1d4d4-2905-454b-b564-92f58dec8f81"
            }
          }
        },
        "6dabcfe1-1c90-4893-8f01-c39e431f00bb": {
          "id": "6dabcfe1-1c90-4893-8f01-c39e431f00bb",
          "prev": "37c43f64-6426-4a98-8de1-a6ca1dd72190",
          "regions": {
            "1126b4c4-7df3-4db1-962b-abe099db9928": {
              "attrs": {
                "height": 0.8,
                "width": 0.8,
                "x": 0.1,
                "y": 0.1
              },
              "content": {
                "cell": "54519c05-1028-4e5c-a2d2-e21f821e99aa",
                "part": "whole"
              },
              "id": "1126b4c4-7df3-4db1-962b-abe099db9928"
            }
          }
        },
        "91753ba8-05fe-465f-806d-0faf4a21a031": {
          "id": "91753ba8-05fe-465f-806d-0faf4a21a031",
          "prev": "5bf0841a-23d1-413e-a557-911111e3e336",
          "regions": {
            "eb271beb-70d0-452e-b896-43695be4ae85": {
              "attrs": {
                "height": 0.8,
                "width": 0.8,
                "x": 0.1,
                "y": 0.1
              },
              "content": {
                "cell": "31cc3d04-22a5-4773-b4e1-abfb09f8bbc2",
                "part": "whole"
              },
              "id": "eb271beb-70d0-452e-b896-43695be4ae85"
            }
          }
        },
        "97575fe4-de27-4833-b616-7479f99519d0": {
          "id": "97575fe4-de27-4833-b616-7479f99519d0",
          "prev": "b8aebb38-1266-40c2-928a-026f9d33ec5c",
          "regions": {
            "01deb5d1-73e8-4d64-b93e-e7646647af3b": {
              "attrs": {
                "height": 0.8,
                "width": 0.8,
                "x": 0.1,
                "y": 0.1
              },
              "content": {
                "cell": "7f2bdffe-4f2a-446b-8805-d4fd262fced1",
                "part": "whole"
              },
              "id": "01deb5d1-73e8-4d64-b93e-e7646647af3b"
            }
          }
        },
        "9cc88d72-9ac9-4c24-96d5-abc94cea6e92": {
          "id": "9cc88d72-9ac9-4c24-96d5-abc94cea6e92",
          "prev": "1ffee25c-251f-4cbf-af3d-a1d5521081b9",
          "regions": {
            "78febecd-5100-493b-8f0d-0cc35ceae42e": {
              "attrs": {
                "height": 0.8,
                "width": 0.8,
                "x": 0.1,
                "y": 0.1
              },
              "content": {
                "cell": "bef00443-818c-4614-aa63-8a2e117462ec",
                "part": "whole"
              },
              "id": "78febecd-5100-493b-8f0d-0cc35ceae42e"
            }
          }
        },
        "a5df524d-67a8-4ae1-8258-9231728bdd14": {
          "id": "a5df524d-67a8-4ae1-8258-9231728bdd14",
          "prev": "623d8bc9-43df-451f-b862-76c2b54708ea",
          "regions": {
            "68e876ca-f943-4b2e-8268-439db992b310": {
              "attrs": {
                "height": 0.8,
                "width": 0.8,
                "x": 0.1,
                "y": 0.1
              },
              "content": {
                "cell": "40af6766-3ae3-4acc-8417-439eb8968553",
                "part": "whole"
              },
              "id": "68e876ca-f943-4b2e-8268-439db992b310"
            }
          }
        },
        "b62355d8-8b93-4dfc-8016-6548952c0f8c": {
          "id": "b62355d8-8b93-4dfc-8016-6548952c0f8c",
          "prev": "f59840cf-124e-4d10-8b89-3aafe98f38ba",
          "regions": {
            "381cc6bd-bde3-4d58-8277-99fbd69c7a4f": {
              "attrs": {
                "height": 0.8,
                "width": 0.8,
                "x": 0.1,
                "y": 0.1
              },
              "content": {
                "cell": "b92c1827-c799-44b9-b770-f45e95c917da",
                "part": "whole"
              },
              "id": "381cc6bd-bde3-4d58-8277-99fbd69c7a4f"
            }
          }
        },
        "b8aebb38-1266-40c2-928a-026f9d33ec5c": {
          "id": "b8aebb38-1266-40c2-928a-026f9d33ec5c",
          "prev": "9cc88d72-9ac9-4c24-96d5-abc94cea6e92",
          "regions": {
            "1bc2d24e-0782-443b-83a4-bc683c5ac6cb": {
              "attrs": {
                "height": 0.8,
                "width": 0.8,
                "x": 0.1,
                "y": 0.1
              },
              "content": {
                "cell": "cbb3d96a-fdd6-436e-86b6-1be446b43e84",
                "part": "whole"
              },
              "id": "1bc2d24e-0782-443b-83a4-bc683c5ac6cb"
            }
          }
        },
        "d2b700ea-e44e-4bed-9ce4-ddf1532b44cb": {
          "id": "d2b700ea-e44e-4bed-9ce4-ddf1532b44cb",
          "prev": "a5df524d-67a8-4ae1-8258-9231728bdd14",
          "regions": {
            "474bc80d-f262-4e62-afae-4565c0979e03": {
              "attrs": {
                "height": 0.8,
                "width": 0.8,
                "x": 0.1,
                "y": 0.1
              },
              "content": {
                "cell": "a67001a3-e51e-4a22-bdcd-249cde5581c1",
                "part": "whole"
              },
              "id": "474bc80d-f262-4e62-afae-4565c0979e03"
            }
          }
        },
        "d989978f-1d85-4802-953f-0e82f1a0fd51": {
          "id": "d989978f-1d85-4802-953f-0e82f1a0fd51",
          "prev": null,
          "regions": {
            "e3ddb97a-209b-4c70-91d7-df0cadcefb0d": {
              "attrs": {
                "height": 0.8,
                "width": 0.8,
                "x": 0.1,
                "y": 0.1
              },
              "content": {
                "cell": "13101ac1-2637-4d0f-9f1f-cd32215b02c3",
                "part": "whole"
              },
              "id": "e3ddb97a-209b-4c70-91d7-df0cadcefb0d"
            }
          }
        },
        "eb43fa9f-eb7c-417b-ab1a-99371ff452e2": {
          "id": "eb43fa9f-eb7c-417b-ab1a-99371ff452e2",
          "prev": "b62355d8-8b93-4dfc-8016-6548952c0f8c",
          "regions": {
            "b9415d21-f857-4a93-a788-c7dc51dedea0": {
              "attrs": {
                "height": 0.8,
                "width": 0.8,
                "x": 0.1,
                "y": 0.1
              },
              "content": {
                "cell": "e29b9590-fc86-46fd-83be-3ff48c7a8df4",
                "part": "whole"
              },
              "id": "b9415d21-f857-4a93-a788-c7dc51dedea0"
            }
          }
        },
        "ebd3a807-2380-4bd6-8e58-c9424f3ed713": {
          "id": "ebd3a807-2380-4bd6-8e58-c9424f3ed713",
          "prev": "f3fb61c6-f807-4942-8c41-0e80240a5146",
          "regions": {
            "7eaeb4e2-d47e-43e4-92c4-ed8cc1e9aac7": {
              "attrs": {
                "height": 0.8,
                "width": 0.8,
                "x": 0.1,
                "y": 0.1
              },
              "content": {
                "cell": "412353c7-42b2-42c7-8702-69568c809a97",
                "part": "whole"
              },
              "id": "7eaeb4e2-d47e-43e4-92c4-ed8cc1e9aac7"
            }
          }
        },
        "eded54a5-7710-4ab6-8229-3ca4029d1ae7": {
          "id": "eded54a5-7710-4ab6-8229-3ca4029d1ae7",
          "prev": "91753ba8-05fe-465f-806d-0faf4a21a031",
          "regions": {
            "816c3f73-4147-4cdb-b7d1-f5f82fa6003b": {
              "attrs": {
                "height": 0.8,
                "width": 0.8,
                "x": 0.1,
                "y": 0.1
              },
              "content": {
                "cell": "fa2d4b89-0d7a-41f1-8635-c5905d106cf3",
                "part": "whole"
              },
              "id": "816c3f73-4147-4cdb-b7d1-f5f82fa6003b"
            }
          }
        },
        "f3fb61c6-f807-4942-8c41-0e80240a5146": {
          "id": "f3fb61c6-f807-4942-8c41-0e80240a5146",
          "prev": "d989978f-1d85-4802-953f-0e82f1a0fd51",
          "regions": {
            "4f7abbfb-161b-44ce-bdab-05ef0b2a5542": {
              "attrs": {
                "height": 0.8,
                "width": 0.8,
                "x": 0.1,
                "y": 0.1
              },
              "content": {
                "cell": "8ce7bf3f-66e0-4462-a540-e87bceeadb7f",
                "part": "whole"
              },
              "id": "4f7abbfb-161b-44ce-bdab-05ef0b2a5542"
            }
          }
        },
        "f59840cf-124e-4d10-8b89-3aafe98f38ba": {
          "id": "f59840cf-124e-4d10-8b89-3aafe98f38ba",
          "prev": "6dabcfe1-1c90-4893-8f01-c39e431f00bb",
          "regions": {
            "e67fa4b9-f237-40ff-8621-fcdbfdd83101": {
              "attrs": {
                "height": 0.8,
                "width": 0.8,
                "x": 0.1,
                "y": 0.1
              },
              "content": {
                "cell": "4ae9a30c-81bc-4396-90d8-939a8e59f287",
                "part": "whole"
              },
              "id": "e67fa4b9-f237-40ff-8621-fcdbfdd83101"
            }
          }
        }
      },
      "themes": {
        "default": "c04eebe0-c348-41e9-bcfb-a65d4bd126df",
        "theme": {
          "c04eebe0-c348-41e9-bcfb-a65d4bd126df": {
            "id": "c04eebe0-c348-41e9-bcfb-a65d4bd126df",
            "palette": {
              "19cc588f-0593-49c9-9f4b-e4d7cc113b1c": {
                "id": "19cc588f-0593-49c9-9f4b-e4d7cc113b1c",
                "rgb": [
                  252,
                  252,
                  252
                ]
              },
              "31af15d2-7e15-44c5-ab5e-e04b16a89eff": {
                "id": "31af15d2-7e15-44c5-ab5e-e04b16a89eff",
                "rgb": [
                  68,
                  68,
                  68
                ]
              },
              "50f92c45-a630-455b-aec3-788680ec7410": {
                "id": "50f92c45-a630-455b-aec3-788680ec7410",
                "rgb": [
                  155,
                  177,
                  192
                ]
              },
              "c5cc3653-2ee1-402a-aba2-7caae1da4f6c": {
                "id": "c5cc3653-2ee1-402a-aba2-7caae1da4f6c",
                "rgb": [
                  43,
                  126,
                  184
                ]
              },
              "efa7f048-9acb-414c-8b04-a26811511a21": {
                "id": "efa7f048-9acb-414c-8b04-a26811511a21",
                "rgb": [
                  25.118061674008803,
                  73.60176211453744,
                  107.4819383259912
                ]
              }
            },
            "rules": {
              "blockquote": {
                "color": "50f92c45-a630-455b-aec3-788680ec7410"
              },
              "code": {
                "font-family": "Anonymous Pro"
              },
              "h1": {
                "color": "c5cc3653-2ee1-402a-aba2-7caae1da4f6c",
                "font-family": "Lato",
                "font-size": 8
              },
              "h2": {
                "color": "c5cc3653-2ee1-402a-aba2-7caae1da4f6c",
                "font-family": "Lato",
                "font-size": 6
              },
              "h3": {
                "color": "50f92c45-a630-455b-aec3-788680ec7410",
                "font-family": "Lato",
                "font-size": 5.5
              },
              "h4": {
                "color": "c5cc3653-2ee1-402a-aba2-7caae1da4f6c",
                "font-family": "Lato",
                "font-size": 5
              },
              "h5": {
                "font-family": "Lato"
              },
              "h6": {
                "font-family": "Lato"
              },
              "h7": {
                "font-family": "Lato"
              },
              "pre": {
                "font-family": "Anonymous Pro",
                "font-size": 4
              }
            },
            "text-base": {
              "font-family": "Merriweather",
              "font-size": 4
            }
          },
          "f0b95bb9-67a7-4d14-bf09-657a5b556dbe": {
            "id": "f0b95bb9-67a7-4d14-bf09-657a5b556dbe",
            "palette": {
              "19cc588f-0593-49c9-9f4b-e4d7cc113b1c": {
                "id": "19cc588f-0593-49c9-9f4b-e4d7cc113b1c",
                "rgb": [
                  252,
                  252,
                  252
                ]
              },
              "31af15d2-7e15-44c5-ab5e-e04b16a89eff": {
                "id": "31af15d2-7e15-44c5-ab5e-e04b16a89eff",
                "rgb": [
                  68,
                  68,
                  68
                ]
              },
              "50f92c45-a630-455b-aec3-788680ec7410": {
                "id": "50f92c45-a630-455b-aec3-788680ec7410",
                "rgb": [
                  155,
                  177,
                  192
                ]
              },
              "c5cc3653-2ee1-402a-aba2-7caae1da4f6c": {
                "id": "c5cc3653-2ee1-402a-aba2-7caae1da4f6c",
                "rgb": [
                  43,
                  126,
                  184
                ]
              },
              "efa7f048-9acb-414c-8b04-a26811511a21": {
                "id": "efa7f048-9acb-414c-8b04-a26811511a21",
                "rgb": [
                  25.118061674008803,
                  73.60176211453744,
                  107.4819383259912
                ]
              }
            },
            "rules": {
              "blockquote": {
                "color": "50f92c45-a630-455b-aec3-788680ec7410"
              },
              "code": {
                "font-family": "Anonymous Pro"
              },
              "h1": {
                "color": "c5cc3653-2ee1-402a-aba2-7caae1da4f6c",
                "font-family": "Lato",
                "font-size": 8
              },
              "h2": {
                "color": "c5cc3653-2ee1-402a-aba2-7caae1da4f6c",
                "font-family": "Lato",
                "font-size": 6
              },
              "h3": {
                "color": "50f92c45-a630-455b-aec3-788680ec7410",
                "font-family": "Lato",
                "font-size": 5.5
              },
              "h4": {
                "color": "c5cc3653-2ee1-402a-aba2-7caae1da4f6c",
                "font-family": "Lato",
                "font-size": 5
              },
              "h5": {
                "font-family": "Lato"
              },
              "h6": {
                "font-family": "Lato"
              },
              "h7": {
                "font-family": "Lato"
              },
              "pre": {
                "font-family": "Anonymous Pro",
                "font-size": 4
              }
            },
            "text-base": {
              "font-family": "Merriweather",
              "font-size": 4
            }
          }
        }
      }
    }
  },
  "nbformat": 4,
  "nbformat_minor": 0
}