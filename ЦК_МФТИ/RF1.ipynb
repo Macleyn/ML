{
  "cells": [
    {
      "cell_type": "markdown",
      "metadata": {
        "id": "view-in-github",
        "colab_type": "text"
      },
      "source": [
        "<a href=\"https://colab.research.google.com/github/Macleyn/ML/blob/main/%D0%A6%D0%9A_%D0%9C%D0%A4%D0%A2%D0%98/RF1.ipynb\" target=\"_parent\"><img src=\"https://colab.research.google.com/assets/colab-badge.svg\" alt=\"Open In Colab\"/></a>"
      ]
    },
    {
      "cell_type": "code",
      "source": [
        "import pandas as pd\n",
        "import numpy as np\n",
        "import matplotlib.pyplot as plt\n",
        "import seaborn as sns\n",
        "from sklearn.tree import DecisionTreeClassifier, DecisionTreeRegressor, plot_tree\n",
        "from sklearn.preprocessing import OrdinalEncoder\n",
        "from sklearn.model_selection import train_test_split\n",
        "from sklearn.metrics import mean_squared_error, accuracy_score, root_mean_squared_error\n",
        "from sklearn.ensemble import RandomForestRegressor, RandomForestClassifier"
      ],
      "metadata": {
        "id": "4D1Gf84PoRR3"
      },
      "execution_count": 106,
      "outputs": []
    },
    {
      "cell_type": "code",
      "source": [
        "data = pd.read_csv('music_prepared.csv')\n",
        "data.head()"
      ],
      "metadata": {
        "colab": {
          "base_uri": "https://localhost:8080/",
          "height": 226
        },
        "id": "TRCRLdFBxWnt",
        "outputId": "b537e5ac-91b6-4cb5-865f-9450a7849dda"
      },
      "execution_count": 107,
      "outputs": [
        {
          "output_type": "execute_result",
          "data": {
            "text/plain": [
              "   popularity  duration_ms  explicit  danceability  energy  key  loudness  \\\n",
              "0          77       230613     False         0.509   0.448    4    -7.552   \n",
              "1          79       208760     False         0.636   0.676    2    -3.442   \n",
              "2          76       180690     False         0.573   0.539    2    -6.091   \n",
              "3          84       232106     False         0.743   0.446    4    -7.807   \n",
              "4          76       225026     False         0.572   0.214    7   -15.625   \n",
              "\n",
              "   mode  speechiness  acousticness  instrumentalness  liveness  valence  \\\n",
              "0     0       0.0357       0.00713          0.013700    0.2440    0.221   \n",
              "1     1       0.0263       0.08070          0.000000    0.0831    0.273   \n",
              "2     0       0.0322       0.01620          0.000012    0.1050    0.390   \n",
              "3     0       0.0683       0.00390          0.118000    0.3370    0.278   \n",
              "4     1       0.0293       0.64900          0.129000    0.1250    0.485   \n",
              "\n",
              "     tempo  time_signature  track_genre  \n",
              "0  156.909               3          0.0  \n",
              "1  113.980               4          0.0  \n",
              "2   75.012               4          0.0  \n",
              "3  123.596               4          0.0  \n",
              "4   95.542               4          0.0  "
            ],
            "text/html": [
              "\n",
              "  <div id=\"df-dc429fb8-30fd-4975-867e-4bc44303f8da\" class=\"colab-df-container\">\n",
              "    <div>\n",
              "<style scoped>\n",
              "    .dataframe tbody tr th:only-of-type {\n",
              "        vertical-align: middle;\n",
              "    }\n",
              "\n",
              "    .dataframe tbody tr th {\n",
              "        vertical-align: top;\n",
              "    }\n",
              "\n",
              "    .dataframe thead th {\n",
              "        text-align: right;\n",
              "    }\n",
              "</style>\n",
              "<table border=\"1\" class=\"dataframe\">\n",
              "  <thead>\n",
              "    <tr style=\"text-align: right;\">\n",
              "      <th></th>\n",
              "      <th>popularity</th>\n",
              "      <th>duration_ms</th>\n",
              "      <th>explicit</th>\n",
              "      <th>danceability</th>\n",
              "      <th>energy</th>\n",
              "      <th>key</th>\n",
              "      <th>loudness</th>\n",
              "      <th>mode</th>\n",
              "      <th>speechiness</th>\n",
              "      <th>acousticness</th>\n",
              "      <th>instrumentalness</th>\n",
              "      <th>liveness</th>\n",
              "      <th>valence</th>\n",
              "      <th>tempo</th>\n",
              "      <th>time_signature</th>\n",
              "      <th>track_genre</th>\n",
              "    </tr>\n",
              "  </thead>\n",
              "  <tbody>\n",
              "    <tr>\n",
              "      <th>0</th>\n",
              "      <td>77</td>\n",
              "      <td>230613</td>\n",
              "      <td>False</td>\n",
              "      <td>0.509</td>\n",
              "      <td>0.448</td>\n",
              "      <td>4</td>\n",
              "      <td>-7.552</td>\n",
              "      <td>0</td>\n",
              "      <td>0.0357</td>\n",
              "      <td>0.00713</td>\n",
              "      <td>0.013700</td>\n",
              "      <td>0.2440</td>\n",
              "      <td>0.221</td>\n",
              "      <td>156.909</td>\n",
              "      <td>3</td>\n",
              "      <td>0.0</td>\n",
              "    </tr>\n",
              "    <tr>\n",
              "      <th>1</th>\n",
              "      <td>79</td>\n",
              "      <td>208760</td>\n",
              "      <td>False</td>\n",
              "      <td>0.636</td>\n",
              "      <td>0.676</td>\n",
              "      <td>2</td>\n",
              "      <td>-3.442</td>\n",
              "      <td>1</td>\n",
              "      <td>0.0263</td>\n",
              "      <td>0.08070</td>\n",
              "      <td>0.000000</td>\n",
              "      <td>0.0831</td>\n",
              "      <td>0.273</td>\n",
              "      <td>113.980</td>\n",
              "      <td>4</td>\n",
              "      <td>0.0</td>\n",
              "    </tr>\n",
              "    <tr>\n",
              "      <th>2</th>\n",
              "      <td>76</td>\n",
              "      <td>180690</td>\n",
              "      <td>False</td>\n",
              "      <td>0.573</td>\n",
              "      <td>0.539</td>\n",
              "      <td>2</td>\n",
              "      <td>-6.091</td>\n",
              "      <td>0</td>\n",
              "      <td>0.0322</td>\n",
              "      <td>0.01620</td>\n",
              "      <td>0.000012</td>\n",
              "      <td>0.1050</td>\n",
              "      <td>0.390</td>\n",
              "      <td>75.012</td>\n",
              "      <td>4</td>\n",
              "      <td>0.0</td>\n",
              "    </tr>\n",
              "    <tr>\n",
              "      <th>3</th>\n",
              "      <td>84</td>\n",
              "      <td>232106</td>\n",
              "      <td>False</td>\n",
              "      <td>0.743</td>\n",
              "      <td>0.446</td>\n",
              "      <td>4</td>\n",
              "      <td>-7.807</td>\n",
              "      <td>0</td>\n",
              "      <td>0.0683</td>\n",
              "      <td>0.00390</td>\n",
              "      <td>0.118000</td>\n",
              "      <td>0.3370</td>\n",
              "      <td>0.278</td>\n",
              "      <td>123.596</td>\n",
              "      <td>4</td>\n",
              "      <td>0.0</td>\n",
              "    </tr>\n",
              "    <tr>\n",
              "      <th>4</th>\n",
              "      <td>76</td>\n",
              "      <td>225026</td>\n",
              "      <td>False</td>\n",
              "      <td>0.572</td>\n",
              "      <td>0.214</td>\n",
              "      <td>7</td>\n",
              "      <td>-15.625</td>\n",
              "      <td>1</td>\n",
              "      <td>0.0293</td>\n",
              "      <td>0.64900</td>\n",
              "      <td>0.129000</td>\n",
              "      <td>0.1250</td>\n",
              "      <td>0.485</td>\n",
              "      <td>95.542</td>\n",
              "      <td>4</td>\n",
              "      <td>0.0</td>\n",
              "    </tr>\n",
              "  </tbody>\n",
              "</table>\n",
              "</div>\n",
              "    <div class=\"colab-df-buttons\">\n",
              "\n",
              "  <div class=\"colab-df-container\">\n",
              "    <button class=\"colab-df-convert\" onclick=\"convertToInteractive('df-dc429fb8-30fd-4975-867e-4bc44303f8da')\"\n",
              "            title=\"Convert this dataframe to an interactive table.\"\n",
              "            style=\"display:none;\">\n",
              "\n",
              "  <svg xmlns=\"http://www.w3.org/2000/svg\" height=\"24px\" viewBox=\"0 -960 960 960\">\n",
              "    <path d=\"M120-120v-720h720v720H120Zm60-500h600v-160H180v160Zm220 220h160v-160H400v160Zm0 220h160v-160H400v160ZM180-400h160v-160H180v160Zm440 0h160v-160H620v160ZM180-180h160v-160H180v160Zm440 0h160v-160H620v160Z\"/>\n",
              "  </svg>\n",
              "    </button>\n",
              "\n",
              "  <style>\n",
              "    .colab-df-container {\n",
              "      display:flex;\n",
              "      gap: 12px;\n",
              "    }\n",
              "\n",
              "    .colab-df-convert {\n",
              "      background-color: #E8F0FE;\n",
              "      border: none;\n",
              "      border-radius: 50%;\n",
              "      cursor: pointer;\n",
              "      display: none;\n",
              "      fill: #1967D2;\n",
              "      height: 32px;\n",
              "      padding: 0 0 0 0;\n",
              "      width: 32px;\n",
              "    }\n",
              "\n",
              "    .colab-df-convert:hover {\n",
              "      background-color: #E2EBFA;\n",
              "      box-shadow: 0px 1px 2px rgba(60, 64, 67, 0.3), 0px 1px 3px 1px rgba(60, 64, 67, 0.15);\n",
              "      fill: #174EA6;\n",
              "    }\n",
              "\n",
              "    .colab-df-buttons div {\n",
              "      margin-bottom: 4px;\n",
              "    }\n",
              "\n",
              "    [theme=dark] .colab-df-convert {\n",
              "      background-color: #3B4455;\n",
              "      fill: #D2E3FC;\n",
              "    }\n",
              "\n",
              "    [theme=dark] .colab-df-convert:hover {\n",
              "      background-color: #434B5C;\n",
              "      box-shadow: 0px 1px 3px 1px rgba(0, 0, 0, 0.15);\n",
              "      filter: drop-shadow(0px 1px 2px rgba(0, 0, 0, 0.3));\n",
              "      fill: #FFFFFF;\n",
              "    }\n",
              "  </style>\n",
              "\n",
              "    <script>\n",
              "      const buttonEl =\n",
              "        document.querySelector('#df-dc429fb8-30fd-4975-867e-4bc44303f8da button.colab-df-convert');\n",
              "      buttonEl.style.display =\n",
              "        google.colab.kernel.accessAllowed ? 'block' : 'none';\n",
              "\n",
              "      async function convertToInteractive(key) {\n",
              "        const element = document.querySelector('#df-dc429fb8-30fd-4975-867e-4bc44303f8da');\n",
              "        const dataTable =\n",
              "          await google.colab.kernel.invokeFunction('convertToInteractive',\n",
              "                                                    [key], {});\n",
              "        if (!dataTable) return;\n",
              "\n",
              "        const docLinkHtml = 'Like what you see? Visit the ' +\n",
              "          '<a target=\"_blank\" href=https://colab.research.google.com/notebooks/data_table.ipynb>data table notebook</a>'\n",
              "          + ' to learn more about interactive tables.';\n",
              "        element.innerHTML = '';\n",
              "        dataTable['output_type'] = 'display_data';\n",
              "        await google.colab.output.renderOutput(dataTable, element);\n",
              "        const docLink = document.createElement('div');\n",
              "        docLink.innerHTML = docLinkHtml;\n",
              "        element.appendChild(docLink);\n",
              "      }\n",
              "    </script>\n",
              "  </div>\n",
              "\n",
              "\n",
              "<div id=\"df-a81d55ee-489e-4a83-8dbe-786eb48510cd\">\n",
              "  <button class=\"colab-df-quickchart\" onclick=\"quickchart('df-a81d55ee-489e-4a83-8dbe-786eb48510cd')\"\n",
              "            title=\"Suggest charts\"\n",
              "            style=\"display:none;\">\n",
              "\n",
              "<svg xmlns=\"http://www.w3.org/2000/svg\" height=\"24px\"viewBox=\"0 0 24 24\"\n",
              "     width=\"24px\">\n",
              "    <g>\n",
              "        <path d=\"M19 3H5c-1.1 0-2 .9-2 2v14c0 1.1.9 2 2 2h14c1.1 0 2-.9 2-2V5c0-1.1-.9-2-2-2zM9 17H7v-7h2v7zm4 0h-2V7h2v10zm4 0h-2v-4h2v4z\"/>\n",
              "    </g>\n",
              "</svg>\n",
              "  </button>\n",
              "\n",
              "<style>\n",
              "  .colab-df-quickchart {\n",
              "      --bg-color: #E8F0FE;\n",
              "      --fill-color: #1967D2;\n",
              "      --hover-bg-color: #E2EBFA;\n",
              "      --hover-fill-color: #174EA6;\n",
              "      --disabled-fill-color: #AAA;\n",
              "      --disabled-bg-color: #DDD;\n",
              "  }\n",
              "\n",
              "  [theme=dark] .colab-df-quickchart {\n",
              "      --bg-color: #3B4455;\n",
              "      --fill-color: #D2E3FC;\n",
              "      --hover-bg-color: #434B5C;\n",
              "      --hover-fill-color: #FFFFFF;\n",
              "      --disabled-bg-color: #3B4455;\n",
              "      --disabled-fill-color: #666;\n",
              "  }\n",
              "\n",
              "  .colab-df-quickchart {\n",
              "    background-color: var(--bg-color);\n",
              "    border: none;\n",
              "    border-radius: 50%;\n",
              "    cursor: pointer;\n",
              "    display: none;\n",
              "    fill: var(--fill-color);\n",
              "    height: 32px;\n",
              "    padding: 0;\n",
              "    width: 32px;\n",
              "  }\n",
              "\n",
              "  .colab-df-quickchart:hover {\n",
              "    background-color: var(--hover-bg-color);\n",
              "    box-shadow: 0 1px 2px rgba(60, 64, 67, 0.3), 0 1px 3px 1px rgba(60, 64, 67, 0.15);\n",
              "    fill: var(--button-hover-fill-color);\n",
              "  }\n",
              "\n",
              "  .colab-df-quickchart-complete:disabled,\n",
              "  .colab-df-quickchart-complete:disabled:hover {\n",
              "    background-color: var(--disabled-bg-color);\n",
              "    fill: var(--disabled-fill-color);\n",
              "    box-shadow: none;\n",
              "  }\n",
              "\n",
              "  .colab-df-spinner {\n",
              "    border: 2px solid var(--fill-color);\n",
              "    border-color: transparent;\n",
              "    border-bottom-color: var(--fill-color);\n",
              "    animation:\n",
              "      spin 1s steps(1) infinite;\n",
              "  }\n",
              "\n",
              "  @keyframes spin {\n",
              "    0% {\n",
              "      border-color: transparent;\n",
              "      border-bottom-color: var(--fill-color);\n",
              "      border-left-color: var(--fill-color);\n",
              "    }\n",
              "    20% {\n",
              "      border-color: transparent;\n",
              "      border-left-color: var(--fill-color);\n",
              "      border-top-color: var(--fill-color);\n",
              "    }\n",
              "    30% {\n",
              "      border-color: transparent;\n",
              "      border-left-color: var(--fill-color);\n",
              "      border-top-color: var(--fill-color);\n",
              "      border-right-color: var(--fill-color);\n",
              "    }\n",
              "    40% {\n",
              "      border-color: transparent;\n",
              "      border-right-color: var(--fill-color);\n",
              "      border-top-color: var(--fill-color);\n",
              "    }\n",
              "    60% {\n",
              "      border-color: transparent;\n",
              "      border-right-color: var(--fill-color);\n",
              "    }\n",
              "    80% {\n",
              "      border-color: transparent;\n",
              "      border-right-color: var(--fill-color);\n",
              "      border-bottom-color: var(--fill-color);\n",
              "    }\n",
              "    90% {\n",
              "      border-color: transparent;\n",
              "      border-bottom-color: var(--fill-color);\n",
              "    }\n",
              "  }\n",
              "</style>\n",
              "\n",
              "  <script>\n",
              "    async function quickchart(key) {\n",
              "      const quickchartButtonEl =\n",
              "        document.querySelector('#' + key + ' button');\n",
              "      quickchartButtonEl.disabled = true;  // To prevent multiple clicks.\n",
              "      quickchartButtonEl.classList.add('colab-df-spinner');\n",
              "      try {\n",
              "        const charts = await google.colab.kernel.invokeFunction(\n",
              "            'suggestCharts', [key], {});\n",
              "      } catch (error) {\n",
              "        console.error('Error during call to suggestCharts:', error);\n",
              "      }\n",
              "      quickchartButtonEl.classList.remove('colab-df-spinner');\n",
              "      quickchartButtonEl.classList.add('colab-df-quickchart-complete');\n",
              "    }\n",
              "    (() => {\n",
              "      let quickchartButtonEl =\n",
              "        document.querySelector('#df-a81d55ee-489e-4a83-8dbe-786eb48510cd button');\n",
              "      quickchartButtonEl.style.display =\n",
              "        google.colab.kernel.accessAllowed ? 'block' : 'none';\n",
              "    })();\n",
              "  </script>\n",
              "</div>\n",
              "    </div>\n",
              "  </div>\n"
            ],
            "application/vnd.google.colaboratory.intrinsic+json": {
              "type": "dataframe",
              "variable_name": "data",
              "summary": "{\n  \"name\": \"data\",\n  \"rows\": 5000,\n  \"fields\": [\n    {\n      \"column\": \"popularity\",\n      \"properties\": {\n        \"dtype\": \"number\",\n        \"std\": 28,\n        \"min\": 0,\n        \"max\": 100,\n        \"num_unique_values\": 91,\n        \"samples\": [\n          45,\n          69,\n          26\n        ],\n        \"semantic_type\": \"\",\n        \"description\": \"\"\n      }\n    },\n    {\n      \"column\": \"duration_ms\",\n      \"properties\": {\n        \"dtype\": \"number\",\n        \"std\": 59613,\n        \"min\": 42440,\n        \"max\": 953946,\n        \"num_unique_values\": 3751,\n        \"samples\": [\n          217853,\n          181279,\n          321511\n        ],\n        \"semantic_type\": \"\",\n        \"description\": \"\"\n      }\n    },\n    {\n      \"column\": \"explicit\",\n      \"properties\": {\n        \"dtype\": \"boolean\",\n        \"num_unique_values\": 2,\n        \"samples\": [\n          true,\n          false\n        ],\n        \"semantic_type\": \"\",\n        \"description\": \"\"\n      }\n    },\n    {\n      \"column\": \"danceability\",\n      \"properties\": {\n        \"dtype\": \"number\",\n        \"std\": 0.14403549427860615,\n        \"min\": 0.122,\n        \"max\": 0.975,\n        \"num_unique_values\": 671,\n        \"samples\": [\n          0.539,\n          0.702\n        ],\n        \"semantic_type\": \"\",\n        \"description\": \"\"\n      }\n    },\n    {\n      \"column\": \"energy\",\n      \"properties\": {\n        \"dtype\": \"number\",\n        \"std\": 0.20032612115366616,\n        \"min\": 0.0264,\n        \"max\": 0.998,\n        \"num_unique_values\": 801,\n        \"samples\": [\n          0.324,\n          0.396\n        ],\n        \"semantic_type\": \"\",\n        \"description\": \"\"\n      }\n    },\n    {\n      \"column\": \"key\",\n      \"properties\": {\n        \"dtype\": \"number\",\n        \"std\": 3,\n        \"min\": 0,\n        \"max\": 11,\n        \"num_unique_values\": 12,\n        \"samples\": [\n          10,\n          5\n        ],\n        \"semantic_type\": \"\",\n        \"description\": \"\"\n      }\n    },\n    {\n      \"column\": \"loudness\",\n      \"properties\": {\n        \"dtype\": \"number\",\n        \"std\": 2.940529284126437,\n        \"min\": -21.441,\n        \"max\": 0.366,\n        \"num_unique_values\": 3235,\n        \"samples\": [\n          -7.476,\n          -2.816\n        ],\n        \"semantic_type\": \"\",\n        \"description\": \"\"\n      }\n    },\n    {\n      \"column\": \"mode\",\n      \"properties\": {\n        \"dtype\": \"number\",\n        \"std\": 0,\n        \"min\": 0,\n        \"max\": 1,\n        \"num_unique_values\": 2,\n        \"samples\": [\n          1,\n          0\n        ],\n        \"semantic_type\": \"\",\n        \"description\": \"\"\n      }\n    },\n    {\n      \"column\": \"speechiness\",\n      \"properties\": {\n        \"dtype\": \"number\",\n        \"std\": 0.0705790994361322,\n        \"min\": 0.0232,\n        \"max\": 0.743,\n        \"num_unique_values\": 945,\n        \"samples\": [\n          0.0748,\n          0.0666\n        ],\n        \"semantic_type\": \"\",\n        \"description\": \"\"\n      }\n    },\n    {\n      \"column\": \"acousticness\",\n      \"properties\": {\n        \"dtype\": \"number\",\n        \"std\": 0.27955090954294004,\n        \"min\": 1.47e-06,\n        \"max\": 0.989,\n        \"num_unique_values\": 1963,\n        \"samples\": [\n          0.0899,\n          0.00458\n        ],\n        \"semantic_type\": \"\",\n        \"description\": \"\"\n      }\n    },\n    {\n      \"column\": \"instrumentalness\",\n      \"properties\": {\n        \"dtype\": \"number\",\n        \"std\": 0.11437213319907419,\n        \"min\": 0.0,\n        \"max\": 0.941,\n        \"num_unique_values\": 1650,\n        \"samples\": [\n          0.00122,\n          0.00843\n        ],\n        \"semantic_type\": \"\",\n        \"description\": \"\"\n      }\n    },\n    {\n      \"column\": \"liveness\",\n      \"properties\": {\n        \"dtype\": \"number\",\n        \"std\": 0.16836455436992684,\n        \"min\": 0.015,\n        \"max\": 0.99,\n        \"num_unique_values\": 1045,\n        \"samples\": [\n          0.622,\n          0.269\n        ],\n        \"semantic_type\": \"\",\n        \"description\": \"\"\n      }\n    },\n    {\n      \"column\": \"valence\",\n      \"properties\": {\n        \"dtype\": \"number\",\n        \"std\": 0.22660613879363883,\n        \"min\": 0.0363,\n        \"max\": 0.978,\n        \"num_unique_values\": 911,\n        \"samples\": [\n          0.48,\n          0.0927\n        ],\n        \"semantic_type\": \"\",\n        \"description\": \"\"\n      }\n    },\n    {\n      \"column\": \"tempo\",\n      \"properties\": {\n        \"dtype\": \"number\",\n        \"std\": 30.54159383218374,\n        \"min\": 45.857,\n        \"max\": 243.372,\n        \"num_unique_values\": 3823,\n        \"samples\": [\n          159.878,\n          99.949\n        ],\n        \"semantic_type\": \"\",\n        \"description\": \"\"\n      }\n    },\n    {\n      \"column\": \"time_signature\",\n      \"properties\": {\n        \"dtype\": \"number\",\n        \"std\": 0,\n        \"min\": 1,\n        \"max\": 5,\n        \"num_unique_values\": 4,\n        \"samples\": [\n          4,\n          1\n        ],\n        \"semantic_type\": \"\",\n        \"description\": \"\"\n      }\n    },\n    {\n      \"column\": \"track_genre\",\n      \"properties\": {\n        \"dtype\": \"number\",\n        \"std\": 1.414355004946072,\n        \"min\": 0.0,\n        \"max\": 4.0,\n        \"num_unique_values\": 5,\n        \"samples\": [\n          1.0,\n          4.0\n        ],\n        \"semantic_type\": \"\",\n        \"description\": \"\"\n      }\n    }\n  ]\n}"
            }
          },
          "metadata": {},
          "execution_count": 107
        }
      ]
    },
    {
      "cell_type": "code",
      "source": [
        "X = data.drop(['popularity'], axis=1)\n",
        "y = data['popularity']"
      ],
      "metadata": {
        "id": "G9-WoOTzoYs9"
      },
      "execution_count": 108,
      "outputs": []
    },
    {
      "cell_type": "code",
      "source": [
        "data.info()"
      ],
      "metadata": {
        "colab": {
          "base_uri": "https://localhost:8080/"
        },
        "id": "zyIlqWAOnQJD",
        "outputId": "1b347a16-a4e0-44a6-d036-ac232cd9c695"
      },
      "execution_count": 109,
      "outputs": [
        {
          "output_type": "stream",
          "name": "stdout",
          "text": [
            "<class 'pandas.core.frame.DataFrame'>\n",
            "RangeIndex: 5000 entries, 0 to 4999\n",
            "Data columns (total 16 columns):\n",
            " #   Column            Non-Null Count  Dtype  \n",
            "---  ------            --------------  -----  \n",
            " 0   popularity        5000 non-null   int64  \n",
            " 1   duration_ms       5000 non-null   int64  \n",
            " 2   explicit          5000 non-null   bool   \n",
            " 3   danceability      5000 non-null   float64\n",
            " 4   energy            5000 non-null   float64\n",
            " 5   key               5000 non-null   int64  \n",
            " 6   loudness          5000 non-null   float64\n",
            " 7   mode              5000 non-null   int64  \n",
            " 8   speechiness       5000 non-null   float64\n",
            " 9   acousticness      5000 non-null   float64\n",
            " 10  instrumentalness  5000 non-null   float64\n",
            " 11  liveness          5000 non-null   float64\n",
            " 12  valence           5000 non-null   float64\n",
            " 13  tempo             5000 non-null   float64\n",
            " 14  time_signature    5000 non-null   int64  \n",
            " 15  track_genre       5000 non-null   float64\n",
            "dtypes: bool(1), float64(10), int64(5)\n",
            "memory usage: 590.9 KB\n"
          ]
        }
      ]
    },
    {
      "cell_type": "code",
      "source": [
        "X['explicit'] = X['explicit'].astype(int)\n",
        "X.head()"
      ],
      "metadata": {
        "colab": {
          "base_uri": "https://localhost:8080/",
          "height": 206
        },
        "id": "gygZCzxMoASd",
        "outputId": "fbeeafd0-712c-4df7-b331-f46ced4345f2"
      },
      "execution_count": 110,
      "outputs": [
        {
          "output_type": "execute_result",
          "data": {
            "text/plain": [
              "   duration_ms  explicit  danceability  energy  key  loudness  mode  \\\n",
              "0       230613         0         0.509   0.448    4    -7.552     0   \n",
              "1       208760         0         0.636   0.676    2    -3.442     1   \n",
              "2       180690         0         0.573   0.539    2    -6.091     0   \n",
              "3       232106         0         0.743   0.446    4    -7.807     0   \n",
              "4       225026         0         0.572   0.214    7   -15.625     1   \n",
              "\n",
              "   speechiness  acousticness  instrumentalness  liveness  valence    tempo  \\\n",
              "0       0.0357       0.00713          0.013700    0.2440    0.221  156.909   \n",
              "1       0.0263       0.08070          0.000000    0.0831    0.273  113.980   \n",
              "2       0.0322       0.01620          0.000012    0.1050    0.390   75.012   \n",
              "3       0.0683       0.00390          0.118000    0.3370    0.278  123.596   \n",
              "4       0.0293       0.64900          0.129000    0.1250    0.485   95.542   \n",
              "\n",
              "   time_signature  track_genre  \n",
              "0               3          0.0  \n",
              "1               4          0.0  \n",
              "2               4          0.0  \n",
              "3               4          0.0  \n",
              "4               4          0.0  "
            ],
            "text/html": [
              "\n",
              "  <div id=\"df-5f0c9127-2c07-4c6c-8e2f-b39528cd1e67\" class=\"colab-df-container\">\n",
              "    <div>\n",
              "<style scoped>\n",
              "    .dataframe tbody tr th:only-of-type {\n",
              "        vertical-align: middle;\n",
              "    }\n",
              "\n",
              "    .dataframe tbody tr th {\n",
              "        vertical-align: top;\n",
              "    }\n",
              "\n",
              "    .dataframe thead th {\n",
              "        text-align: right;\n",
              "    }\n",
              "</style>\n",
              "<table border=\"1\" class=\"dataframe\">\n",
              "  <thead>\n",
              "    <tr style=\"text-align: right;\">\n",
              "      <th></th>\n",
              "      <th>duration_ms</th>\n",
              "      <th>explicit</th>\n",
              "      <th>danceability</th>\n",
              "      <th>energy</th>\n",
              "      <th>key</th>\n",
              "      <th>loudness</th>\n",
              "      <th>mode</th>\n",
              "      <th>speechiness</th>\n",
              "      <th>acousticness</th>\n",
              "      <th>instrumentalness</th>\n",
              "      <th>liveness</th>\n",
              "      <th>valence</th>\n",
              "      <th>tempo</th>\n",
              "      <th>time_signature</th>\n",
              "      <th>track_genre</th>\n",
              "    </tr>\n",
              "  </thead>\n",
              "  <tbody>\n",
              "    <tr>\n",
              "      <th>0</th>\n",
              "      <td>230613</td>\n",
              "      <td>0</td>\n",
              "      <td>0.509</td>\n",
              "      <td>0.448</td>\n",
              "      <td>4</td>\n",
              "      <td>-7.552</td>\n",
              "      <td>0</td>\n",
              "      <td>0.0357</td>\n",
              "      <td>0.00713</td>\n",
              "      <td>0.013700</td>\n",
              "      <td>0.2440</td>\n",
              "      <td>0.221</td>\n",
              "      <td>156.909</td>\n",
              "      <td>3</td>\n",
              "      <td>0.0</td>\n",
              "    </tr>\n",
              "    <tr>\n",
              "      <th>1</th>\n",
              "      <td>208760</td>\n",
              "      <td>0</td>\n",
              "      <td>0.636</td>\n",
              "      <td>0.676</td>\n",
              "      <td>2</td>\n",
              "      <td>-3.442</td>\n",
              "      <td>1</td>\n",
              "      <td>0.0263</td>\n",
              "      <td>0.08070</td>\n",
              "      <td>0.000000</td>\n",
              "      <td>0.0831</td>\n",
              "      <td>0.273</td>\n",
              "      <td>113.980</td>\n",
              "      <td>4</td>\n",
              "      <td>0.0</td>\n",
              "    </tr>\n",
              "    <tr>\n",
              "      <th>2</th>\n",
              "      <td>180690</td>\n",
              "      <td>0</td>\n",
              "      <td>0.573</td>\n",
              "      <td>0.539</td>\n",
              "      <td>2</td>\n",
              "      <td>-6.091</td>\n",
              "      <td>0</td>\n",
              "      <td>0.0322</td>\n",
              "      <td>0.01620</td>\n",
              "      <td>0.000012</td>\n",
              "      <td>0.1050</td>\n",
              "      <td>0.390</td>\n",
              "      <td>75.012</td>\n",
              "      <td>4</td>\n",
              "      <td>0.0</td>\n",
              "    </tr>\n",
              "    <tr>\n",
              "      <th>3</th>\n",
              "      <td>232106</td>\n",
              "      <td>0</td>\n",
              "      <td>0.743</td>\n",
              "      <td>0.446</td>\n",
              "      <td>4</td>\n",
              "      <td>-7.807</td>\n",
              "      <td>0</td>\n",
              "      <td>0.0683</td>\n",
              "      <td>0.00390</td>\n",
              "      <td>0.118000</td>\n",
              "      <td>0.3370</td>\n",
              "      <td>0.278</td>\n",
              "      <td>123.596</td>\n",
              "      <td>4</td>\n",
              "      <td>0.0</td>\n",
              "    </tr>\n",
              "    <tr>\n",
              "      <th>4</th>\n",
              "      <td>225026</td>\n",
              "      <td>0</td>\n",
              "      <td>0.572</td>\n",
              "      <td>0.214</td>\n",
              "      <td>7</td>\n",
              "      <td>-15.625</td>\n",
              "      <td>1</td>\n",
              "      <td>0.0293</td>\n",
              "      <td>0.64900</td>\n",
              "      <td>0.129000</td>\n",
              "      <td>0.1250</td>\n",
              "      <td>0.485</td>\n",
              "      <td>95.542</td>\n",
              "      <td>4</td>\n",
              "      <td>0.0</td>\n",
              "    </tr>\n",
              "  </tbody>\n",
              "</table>\n",
              "</div>\n",
              "    <div class=\"colab-df-buttons\">\n",
              "\n",
              "  <div class=\"colab-df-container\">\n",
              "    <button class=\"colab-df-convert\" onclick=\"convertToInteractive('df-5f0c9127-2c07-4c6c-8e2f-b39528cd1e67')\"\n",
              "            title=\"Convert this dataframe to an interactive table.\"\n",
              "            style=\"display:none;\">\n",
              "\n",
              "  <svg xmlns=\"http://www.w3.org/2000/svg\" height=\"24px\" viewBox=\"0 -960 960 960\">\n",
              "    <path d=\"M120-120v-720h720v720H120Zm60-500h600v-160H180v160Zm220 220h160v-160H400v160Zm0 220h160v-160H400v160ZM180-400h160v-160H180v160Zm440 0h160v-160H620v160ZM180-180h160v-160H180v160Zm440 0h160v-160H620v160Z\"/>\n",
              "  </svg>\n",
              "    </button>\n",
              "\n",
              "  <style>\n",
              "    .colab-df-container {\n",
              "      display:flex;\n",
              "      gap: 12px;\n",
              "    }\n",
              "\n",
              "    .colab-df-convert {\n",
              "      background-color: #E8F0FE;\n",
              "      border: none;\n",
              "      border-radius: 50%;\n",
              "      cursor: pointer;\n",
              "      display: none;\n",
              "      fill: #1967D2;\n",
              "      height: 32px;\n",
              "      padding: 0 0 0 0;\n",
              "      width: 32px;\n",
              "    }\n",
              "\n",
              "    .colab-df-convert:hover {\n",
              "      background-color: #E2EBFA;\n",
              "      box-shadow: 0px 1px 2px rgba(60, 64, 67, 0.3), 0px 1px 3px 1px rgba(60, 64, 67, 0.15);\n",
              "      fill: #174EA6;\n",
              "    }\n",
              "\n",
              "    .colab-df-buttons div {\n",
              "      margin-bottom: 4px;\n",
              "    }\n",
              "\n",
              "    [theme=dark] .colab-df-convert {\n",
              "      background-color: #3B4455;\n",
              "      fill: #D2E3FC;\n",
              "    }\n",
              "\n",
              "    [theme=dark] .colab-df-convert:hover {\n",
              "      background-color: #434B5C;\n",
              "      box-shadow: 0px 1px 3px 1px rgba(0, 0, 0, 0.15);\n",
              "      filter: drop-shadow(0px 1px 2px rgba(0, 0, 0, 0.3));\n",
              "      fill: #FFFFFF;\n",
              "    }\n",
              "  </style>\n",
              "\n",
              "    <script>\n",
              "      const buttonEl =\n",
              "        document.querySelector('#df-5f0c9127-2c07-4c6c-8e2f-b39528cd1e67 button.colab-df-convert');\n",
              "      buttonEl.style.display =\n",
              "        google.colab.kernel.accessAllowed ? 'block' : 'none';\n",
              "\n",
              "      async function convertToInteractive(key) {\n",
              "        const element = document.querySelector('#df-5f0c9127-2c07-4c6c-8e2f-b39528cd1e67');\n",
              "        const dataTable =\n",
              "          await google.colab.kernel.invokeFunction('convertToInteractive',\n",
              "                                                    [key], {});\n",
              "        if (!dataTable) return;\n",
              "\n",
              "        const docLinkHtml = 'Like what you see? Visit the ' +\n",
              "          '<a target=\"_blank\" href=https://colab.research.google.com/notebooks/data_table.ipynb>data table notebook</a>'\n",
              "          + ' to learn more about interactive tables.';\n",
              "        element.innerHTML = '';\n",
              "        dataTable['output_type'] = 'display_data';\n",
              "        await google.colab.output.renderOutput(dataTable, element);\n",
              "        const docLink = document.createElement('div');\n",
              "        docLink.innerHTML = docLinkHtml;\n",
              "        element.appendChild(docLink);\n",
              "      }\n",
              "    </script>\n",
              "  </div>\n",
              "\n",
              "\n",
              "<div id=\"df-76b1a6c9-4f8e-467d-b921-721775f72f04\">\n",
              "  <button class=\"colab-df-quickchart\" onclick=\"quickchart('df-76b1a6c9-4f8e-467d-b921-721775f72f04')\"\n",
              "            title=\"Suggest charts\"\n",
              "            style=\"display:none;\">\n",
              "\n",
              "<svg xmlns=\"http://www.w3.org/2000/svg\" height=\"24px\"viewBox=\"0 0 24 24\"\n",
              "     width=\"24px\">\n",
              "    <g>\n",
              "        <path d=\"M19 3H5c-1.1 0-2 .9-2 2v14c0 1.1.9 2 2 2h14c1.1 0 2-.9 2-2V5c0-1.1-.9-2-2-2zM9 17H7v-7h2v7zm4 0h-2V7h2v10zm4 0h-2v-4h2v4z\"/>\n",
              "    </g>\n",
              "</svg>\n",
              "  </button>\n",
              "\n",
              "<style>\n",
              "  .colab-df-quickchart {\n",
              "      --bg-color: #E8F0FE;\n",
              "      --fill-color: #1967D2;\n",
              "      --hover-bg-color: #E2EBFA;\n",
              "      --hover-fill-color: #174EA6;\n",
              "      --disabled-fill-color: #AAA;\n",
              "      --disabled-bg-color: #DDD;\n",
              "  }\n",
              "\n",
              "  [theme=dark] .colab-df-quickchart {\n",
              "      --bg-color: #3B4455;\n",
              "      --fill-color: #D2E3FC;\n",
              "      --hover-bg-color: #434B5C;\n",
              "      --hover-fill-color: #FFFFFF;\n",
              "      --disabled-bg-color: #3B4455;\n",
              "      --disabled-fill-color: #666;\n",
              "  }\n",
              "\n",
              "  .colab-df-quickchart {\n",
              "    background-color: var(--bg-color);\n",
              "    border: none;\n",
              "    border-radius: 50%;\n",
              "    cursor: pointer;\n",
              "    display: none;\n",
              "    fill: var(--fill-color);\n",
              "    height: 32px;\n",
              "    padding: 0;\n",
              "    width: 32px;\n",
              "  }\n",
              "\n",
              "  .colab-df-quickchart:hover {\n",
              "    background-color: var(--hover-bg-color);\n",
              "    box-shadow: 0 1px 2px rgba(60, 64, 67, 0.3), 0 1px 3px 1px rgba(60, 64, 67, 0.15);\n",
              "    fill: var(--button-hover-fill-color);\n",
              "  }\n",
              "\n",
              "  .colab-df-quickchart-complete:disabled,\n",
              "  .colab-df-quickchart-complete:disabled:hover {\n",
              "    background-color: var(--disabled-bg-color);\n",
              "    fill: var(--disabled-fill-color);\n",
              "    box-shadow: none;\n",
              "  }\n",
              "\n",
              "  .colab-df-spinner {\n",
              "    border: 2px solid var(--fill-color);\n",
              "    border-color: transparent;\n",
              "    border-bottom-color: var(--fill-color);\n",
              "    animation:\n",
              "      spin 1s steps(1) infinite;\n",
              "  }\n",
              "\n",
              "  @keyframes spin {\n",
              "    0% {\n",
              "      border-color: transparent;\n",
              "      border-bottom-color: var(--fill-color);\n",
              "      border-left-color: var(--fill-color);\n",
              "    }\n",
              "    20% {\n",
              "      border-color: transparent;\n",
              "      border-left-color: var(--fill-color);\n",
              "      border-top-color: var(--fill-color);\n",
              "    }\n",
              "    30% {\n",
              "      border-color: transparent;\n",
              "      border-left-color: var(--fill-color);\n",
              "      border-top-color: var(--fill-color);\n",
              "      border-right-color: var(--fill-color);\n",
              "    }\n",
              "    40% {\n",
              "      border-color: transparent;\n",
              "      border-right-color: var(--fill-color);\n",
              "      border-top-color: var(--fill-color);\n",
              "    }\n",
              "    60% {\n",
              "      border-color: transparent;\n",
              "      border-right-color: var(--fill-color);\n",
              "    }\n",
              "    80% {\n",
              "      border-color: transparent;\n",
              "      border-right-color: var(--fill-color);\n",
              "      border-bottom-color: var(--fill-color);\n",
              "    }\n",
              "    90% {\n",
              "      border-color: transparent;\n",
              "      border-bottom-color: var(--fill-color);\n",
              "    }\n",
              "  }\n",
              "</style>\n",
              "\n",
              "  <script>\n",
              "    async function quickchart(key) {\n",
              "      const quickchartButtonEl =\n",
              "        document.querySelector('#' + key + ' button');\n",
              "      quickchartButtonEl.disabled = true;  // To prevent multiple clicks.\n",
              "      quickchartButtonEl.classList.add('colab-df-spinner');\n",
              "      try {\n",
              "        const charts = await google.colab.kernel.invokeFunction(\n",
              "            'suggestCharts', [key], {});\n",
              "      } catch (error) {\n",
              "        console.error('Error during call to suggestCharts:', error);\n",
              "      }\n",
              "      quickchartButtonEl.classList.remove('colab-df-spinner');\n",
              "      quickchartButtonEl.classList.add('colab-df-quickchart-complete');\n",
              "    }\n",
              "    (() => {\n",
              "      let quickchartButtonEl =\n",
              "        document.querySelector('#df-76b1a6c9-4f8e-467d-b921-721775f72f04 button');\n",
              "      quickchartButtonEl.style.display =\n",
              "        google.colab.kernel.accessAllowed ? 'block' : 'none';\n",
              "    })();\n",
              "  </script>\n",
              "</div>\n",
              "    </div>\n",
              "  </div>\n"
            ],
            "application/vnd.google.colaboratory.intrinsic+json": {
              "type": "dataframe",
              "variable_name": "X",
              "summary": "{\n  \"name\": \"X\",\n  \"rows\": 5000,\n  \"fields\": [\n    {\n      \"column\": \"duration_ms\",\n      \"properties\": {\n        \"dtype\": \"number\",\n        \"std\": 59613,\n        \"min\": 42440,\n        \"max\": 953946,\n        \"num_unique_values\": 3751,\n        \"samples\": [\n          217853,\n          181279,\n          321511\n        ],\n        \"semantic_type\": \"\",\n        \"description\": \"\"\n      }\n    },\n    {\n      \"column\": \"explicit\",\n      \"properties\": {\n        \"dtype\": \"number\",\n        \"std\": 0,\n        \"min\": 0,\n        \"max\": 1,\n        \"num_unique_values\": 2,\n        \"samples\": [\n          1,\n          0\n        ],\n        \"semantic_type\": \"\",\n        \"description\": \"\"\n      }\n    },\n    {\n      \"column\": \"danceability\",\n      \"properties\": {\n        \"dtype\": \"number\",\n        \"std\": 0.14403549427860615,\n        \"min\": 0.122,\n        \"max\": 0.975,\n        \"num_unique_values\": 671,\n        \"samples\": [\n          0.539,\n          0.702\n        ],\n        \"semantic_type\": \"\",\n        \"description\": \"\"\n      }\n    },\n    {\n      \"column\": \"energy\",\n      \"properties\": {\n        \"dtype\": \"number\",\n        \"std\": 0.20032612115366616,\n        \"min\": 0.0264,\n        \"max\": 0.998,\n        \"num_unique_values\": 801,\n        \"samples\": [\n          0.324,\n          0.396\n        ],\n        \"semantic_type\": \"\",\n        \"description\": \"\"\n      }\n    },\n    {\n      \"column\": \"key\",\n      \"properties\": {\n        \"dtype\": \"number\",\n        \"std\": 3,\n        \"min\": 0,\n        \"max\": 11,\n        \"num_unique_values\": 12,\n        \"samples\": [\n          10,\n          5\n        ],\n        \"semantic_type\": \"\",\n        \"description\": \"\"\n      }\n    },\n    {\n      \"column\": \"loudness\",\n      \"properties\": {\n        \"dtype\": \"number\",\n        \"std\": 2.940529284126437,\n        \"min\": -21.441,\n        \"max\": 0.366,\n        \"num_unique_values\": 3235,\n        \"samples\": [\n          -7.476,\n          -2.816\n        ],\n        \"semantic_type\": \"\",\n        \"description\": \"\"\n      }\n    },\n    {\n      \"column\": \"mode\",\n      \"properties\": {\n        \"dtype\": \"number\",\n        \"std\": 0,\n        \"min\": 0,\n        \"max\": 1,\n        \"num_unique_values\": 2,\n        \"samples\": [\n          1,\n          0\n        ],\n        \"semantic_type\": \"\",\n        \"description\": \"\"\n      }\n    },\n    {\n      \"column\": \"speechiness\",\n      \"properties\": {\n        \"dtype\": \"number\",\n        \"std\": 0.0705790994361322,\n        \"min\": 0.0232,\n        \"max\": 0.743,\n        \"num_unique_values\": 945,\n        \"samples\": [\n          0.0748,\n          0.0666\n        ],\n        \"semantic_type\": \"\",\n        \"description\": \"\"\n      }\n    },\n    {\n      \"column\": \"acousticness\",\n      \"properties\": {\n        \"dtype\": \"number\",\n        \"std\": 0.27955090954294004,\n        \"min\": 1.47e-06,\n        \"max\": 0.989,\n        \"num_unique_values\": 1963,\n        \"samples\": [\n          0.0899,\n          0.00458\n        ],\n        \"semantic_type\": \"\",\n        \"description\": \"\"\n      }\n    },\n    {\n      \"column\": \"instrumentalness\",\n      \"properties\": {\n        \"dtype\": \"number\",\n        \"std\": 0.11437213319907419,\n        \"min\": 0.0,\n        \"max\": 0.941,\n        \"num_unique_values\": 1650,\n        \"samples\": [\n          0.00122,\n          0.00843\n        ],\n        \"semantic_type\": \"\",\n        \"description\": \"\"\n      }\n    },\n    {\n      \"column\": \"liveness\",\n      \"properties\": {\n        \"dtype\": \"number\",\n        \"std\": 0.16836455436992684,\n        \"min\": 0.015,\n        \"max\": 0.99,\n        \"num_unique_values\": 1045,\n        \"samples\": [\n          0.622,\n          0.269\n        ],\n        \"semantic_type\": \"\",\n        \"description\": \"\"\n      }\n    },\n    {\n      \"column\": \"valence\",\n      \"properties\": {\n        \"dtype\": \"number\",\n        \"std\": 0.22660613879363883,\n        \"min\": 0.0363,\n        \"max\": 0.978,\n        \"num_unique_values\": 911,\n        \"samples\": [\n          0.48,\n          0.0927\n        ],\n        \"semantic_type\": \"\",\n        \"description\": \"\"\n      }\n    },\n    {\n      \"column\": \"tempo\",\n      \"properties\": {\n        \"dtype\": \"number\",\n        \"std\": 30.54159383218374,\n        \"min\": 45.857,\n        \"max\": 243.372,\n        \"num_unique_values\": 3823,\n        \"samples\": [\n          159.878,\n          99.949\n        ],\n        \"semantic_type\": \"\",\n        \"description\": \"\"\n      }\n    },\n    {\n      \"column\": \"time_signature\",\n      \"properties\": {\n        \"dtype\": \"number\",\n        \"std\": 0,\n        \"min\": 1,\n        \"max\": 5,\n        \"num_unique_values\": 4,\n        \"samples\": [\n          4,\n          1\n        ],\n        \"semantic_type\": \"\",\n        \"description\": \"\"\n      }\n    },\n    {\n      \"column\": \"track_genre\",\n      \"properties\": {\n        \"dtype\": \"number\",\n        \"std\": 1.414355004946072,\n        \"min\": 0.0,\n        \"max\": 4.0,\n        \"num_unique_values\": 5,\n        \"samples\": [\n          1.0,\n          4.0\n        ],\n        \"semantic_type\": \"\",\n        \"description\": \"\"\n      }\n    }\n  ]\n}"
            }
          },
          "metadata": {},
          "execution_count": 110
        }
      ]
    },
    {
      "cell_type": "code",
      "source": [
        "X_train, X_test, y_train, y_test = train_test_split(X, y, test_size=0.2, random_state=1)\n",
        "X_train.shape"
      ],
      "metadata": {
        "colab": {
          "base_uri": "https://localhost:8080/"
        },
        "id": "Y-FPwND7rbvR",
        "outputId": "ec6f2cbe-e5e4-447a-d70b-65b3323d3de4"
      },
      "execution_count": 111,
      "outputs": [
        {
          "output_type": "execute_result",
          "data": {
            "text/plain": [
              "(4000, 15)"
            ]
          },
          "metadata": {},
          "execution_count": 111
        }
      ]
    },
    {
      "cell_type": "code",
      "source": [
        "tree = DecisionTreeRegressor(random_state=1)\n",
        "tree.fit(X_train, y_train)\n",
        "forest = RandomForestRegressor(random_state=1)\n",
        "forest.fit(X_train, y_train)\n",
        "y_pred_tree = tree.predict(X_test)\n",
        "rmse_tree = root_mean_squared_error(y_test, y_pred_tree)\n",
        "y_pred_forest = forest.predict(X_test)\n",
        "rmse_forest = root_mean_squared_error(y_test, y_pred_forest)\n",
        "rmse_tree - rmse_forest"
      ],
      "metadata": {
        "colab": {
          "base_uri": "https://localhost:8080/"
        },
        "id": "3ddb3M6UsVEo",
        "outputId": "e53414f6-64b5-42e2-b4a6-5ff18f60ebb8"
      },
      "execution_count": 112,
      "outputs": [
        {
          "output_type": "execute_result",
          "data": {
            "text/plain": [
              "7.2137794461624765"
            ]
          },
          "metadata": {},
          "execution_count": 112
        }
      ]
    },
    {
      "cell_type": "code",
      "source": [
        "metrics_train = []\n",
        "metrics_test = []\n",
        "depth = range(1, 50, 3)\n",
        "\n",
        "for max_depth in depth:\n",
        "    forest = RandomForestRegressor(max_depth=max_depth, random_state=1)\n",
        "    forest.fit(X_train, y_train)\n",
        "    y_pred = forest.predict(X_test)\n",
        "    rmse_test = root_mean_squared_error(y_test, y_pred)\n",
        "    metrics_test.append(rmse_test)\n",
        "    rmse_train = root_mean_squared_error(y_train, forest.predict(X_train))\n",
        "    metrics_train.append(rmse_train)\n",
        "\n",
        "plt.figure(figsize=(12, 7))\n",
        "plt.grid(True, linestyle='--', alpha=0.7)\n",
        "plt.plot(depth, metrics_train, label='Train RMSE', marker='o', linewidth=2, color='blue')\n",
        "plt.plot(depth, metrics_test, label='Test RMSE', marker='s', linewidth=2, color='orange')\n",
        "\n",
        "plt.title('Зависимость RMSE от глубины дерева (Random Forest)', fontsize=14, pad=20)\n",
        "plt.xlabel('Максимальная глубина дерева', fontsize=12)\n",
        "plt.ylabel('RMSE', fontsize=12)\n",
        "plt.xticks(depth, rotation=45)\n",
        "plt.legend(fontsize=12, framealpha=1, shadow=True)\n",
        "\n",
        "# Добавим вертикальную линию в точке наилучшего результата\n",
        "best_depth_idx = np.argmin(metrics_test)\n",
        "best_depth = list(depth)[best_depth_idx]\n",
        "plt.axvline(x=best_depth, color='red', linestyle='--', alpha=0.7)\n",
        "plt.text(best_depth+1, max(max(metrics_train), max(metrics_test))*0.9,\n",
        "         f'Лучшая глубина: {best_depth}', color='red')\n",
        "\n",
        "plt.tight_layout()\n",
        "plt.show()"
      ],
      "metadata": {
        "colab": {
          "base_uri": "https://localhost:8080/",
          "height": 707
        },
        "id": "cd1924xpcvRo",
        "outputId": "99b75d57-5e5b-4a13-8986-ea33f33e483b"
      },
      "execution_count": 113,
      "outputs": [
        {
          "output_type": "display_data",
          "data": {
            "text/plain": [
              "<Figure size 1200x700 with 1 Axes>"
            ],
            "image/png": "[encoded data removed]"
          },
          "metadata": {}
        }
      ]
    },
    {
      "cell_type": "code",
      "source": [
        "y_train_binary = (y_train > 50).astype(int)\n",
        "y_test_binary = (y_test > 50).astype(int)"
      ],
      "metadata": {
        "id": "n6NRBtrclNtJ"
      },
      "execution_count": 117,
      "outputs": []
    },
    {
      "cell_type": "code",
      "source": [
        "dt = DecisionTreeClassifier(max_depth=17, random_state=1)\n",
        "dt.fit(X_train, y_train_binary)\n",
        "\n",
        "# Accuracy для дерева решений\n",
        "dt_train_acc = accuracy_score(y_train_binary, dt.predict(X_train))\n",
        "dt_test_acc = accuracy_score(y_test_binary, dt.predict(X_test))\n",
        "\n",
        "# 2. Обучаем случайный лес (базовые параметры)\n",
        "rf = RandomForestClassifier(random_state=1)\n",
        "rf.fit(X_train, y_train_binary)\n",
        "\n",
        "# Accuracy для случайного леса\n",
        "rf_train_acc = accuracy_score(y_train_binary, rf.predict(X_train))\n",
        "rf_test_acc = accuracy_score(y_test_binary, rf.predict(X_test))\n",
        "\n",
        "# Разница в accuracy на тестовой выборке\n",
        "difference = round(rf_test_acc - dt_test_acc, 2)\n",
        "\n",
        "difference"
      ],
      "metadata": {
        "colab": {
          "base_uri": "https://localhost:8080/"
        },
        "id": "ifA4HYio8bmM",
        "outputId": "220eb2fe-2347-440a-fbfb-7d112723bb48"
      },
      "execution_count": 118,
      "outputs": [
        {
          "output_type": "execute_result",
          "data": {
            "text/plain": [
              "0.08"
            ]
          },
          "metadata": {},
          "execution_count": 118
        }
      ]
    },
    {
      "cell_type": "code",
      "source": [
        "metrics_train = []\n",
        "metrics_test = []\n",
        "\n",
        "n_estimators_range = range(1, 151, 10)\n",
        "\n",
        "for n_estimators in n_estimators_range:\n",
        "  forest = RandomForestClassifier(n_estimators = n_estimators, random_state=1)\n",
        "  forest.fit(X_train, y_train_binary)\n",
        "  y_pred = forest.predict(X_test)\n",
        "  acc_test = accuracy_score(y_test_binary, y_pred)\n",
        "  metrics_test.append(acc_test)\n",
        "  acc_train = accuracy_score(y_train_binary, forest.predict(X_train))\n",
        "  metrics_train.append(acc_train)\n",
        "\n",
        "plt.figure(figsize=(10, 6))\n",
        "plt.plot(n_estimators_range, metrics_train, label='Train Accuracy', marker='o')\n",
        "plt.plot(n_estimators_range, metrics_test, label='Test Accuracy', marker='s')\n",
        "plt.xlabel('Number of Trees (n_estimators)')\n",
        "plt.ylabel('Accuracy')\n",
        "plt.title('Accuracy vs Number of Trees in Random Forest')\n",
        "plt.grid(True, linestyle='--', alpha=0.7)\n",
        "plt.legend()\n",
        "plt.show()"
      ],
      "metadata": {
        "colab": {
          "base_uri": "https://localhost:8080/",
          "height": 564
        },
        "id": "uc6Gtx9CpqRm",
        "outputId": "86cbee9d-3e99-4313-bfea-41ef39452213"
      },
      "execution_count": 120,
      "outputs": [
        {
          "output_type": "display_data",
          "data": {
            "text/plain": [
              "<Figure size 1000x600 with 1 Axes>"
            ],
            "image/png": "[encoded data removed]"
          },
          "metadata": {}
        }
      ]
    },
    {
      "cell_type": "code",
      "source": [
        "np.random.seed(42)\n",
        "\n",
        "def get_bootstrap(data, labels, n=100, max_samples=1.0):\n",
        "    if isinstance(data, pd.DataFrame):\n",
        "        data = data.copy().values\n",
        "\n",
        "    if isinstance(labels, (pd.DataFrame, pd.Series)):\n",
        "        labels = labels.copy().values\n",
        "\n",
        "    n_samples = int(max_samples * data.shape[0])\n",
        "    bootstrap = []\n",
        "\n",
        "    for _ in range(n):\n",
        "        sample_index = np.random.randint(low = 0, high = data.shape[0], size=n_samples)\n",
        "        b_data = data[sample_index]\n",
        "        b_labels = labels[sample_index]\n",
        "\n",
        "        bootstrap.append((b_data, b_labels))\n",
        "\n",
        "    return bootstrap\n",
        "\n",
        "bootstrap_samples = get_bootstrap(X_train, y_train_binary, n=3, max_samples=0.01)\n",
        "first_sample_labels = bootstrap_samples[0][1]\n",
        "sum(first_sample_labels == 1)"
      ],
      "metadata": {
        "colab": {
          "base_uri": "https://localhost:8080/"
        },
        "id": "8DI7sEU5MLli",
        "outputId": "13b88dde-44a5-416a-876d-7c92790902c6"
      },
      "execution_count": 172,
      "outputs": [
        {
          "output_type": "execute_result",
          "data": {
            "text/plain": [
              "np.int64(12)"
            ]
          },
          "metadata": {},
          "execution_count": 172
        }
      ]
    },
    {
      "cell_type": "code",
      "source": [
        "np.random.seed(42)  # для фиксации случайности\n",
        "\n",
        "\n",
        "def get_subsample(features, max_features=1.0):\n",
        "    if not isinstance(features, np.ndarray):\n",
        "        features = np.array(features.copy())  # перевод признаков в numpy array\n",
        "\n",
        "    len_features = max(1, int(len(features) * max_features))  # подсчет кол-ва признаков в подвыборках\n",
        "    sample_indexes = list(range(len(features)))  # получение списка индексов признаков\n",
        "\n",
        "    subsample = np.random.choice(  # взятие случайных индексов признаков\n",
        "        sample_indexes,\n",
        "        size=len_features,  # в кол-ве len_features\n",
        "        replace=False  # без повторений\n",
        "    )\n",
        "\n",
        "    return features[subsample]  # на список выходе признаки\n",
        "\n",
        "sample_features = X_train.columns\n",
        "get_subsample(sample_features, max_features=0.1)"
      ],
      "metadata": {
        "colab": {
          "base_uri": "https://localhost:8080/"
        },
        "id": "pQOIRgPiQpLF",
        "outputId": "cd759079-8092-4647-ae9d-a50b47f53264"
      },
      "execution_count": 173,
      "outputs": [
        {
          "output_type": "execute_result",
          "data": {
            "text/plain": [
              "array(['instrumentalness'], dtype=object)"
            ]
          },
          "metadata": {},
          "execution_count": 173
        }
      ]
    },
    {
      "cell_type": "code",
      "source": [
        "np.random.seed(42)  # для фиксации случайности\n",
        "\n",
        "forest = []\n",
        "bootstrap = get_bootstrap(X_train, y_train_binary, max_samples = 0.5)  # получаем подвыборки\n",
        "\n",
        "for b_data, b_labels in bootstrap:\n",
        "    b_data = pd.DataFrame(b_data, columns=X_train.columns)\n",
        "    features = get_subsample(X_train.columns, max_features=0.5) # получаем признаки\n",
        "\n",
        "    dt = DecisionTreeClassifier(random_state=1).fit(b_data[features], b_labels)\n",
        "    forest.append(dt)"
      ],
      "metadata": {
        "id": "sU3U5z4pWQ4W"
      },
      "execution_count": 174,
      "outputs": []
    },
    {
      "cell_type": "code",
      "source": [
        "forest[0].get_depth()"
      ],
      "metadata": {
        "colab": {
          "base_uri": "https://localhost:8080/"
        },
        "id": "MqHpkKdmbFyH",
        "outputId": "491fa95c-0182-4cb2-eb76-cd26534bde54"
      },
      "execution_count": 175,
      "outputs": [
        {
          "output_type": "execute_result",
          "data": {
            "text/plain": [
              "23"
            ]
          },
          "metadata": {},
          "execution_count": 175
        }
      ]
    },
    {
      "cell_type": "code",
      "source": [
        "# добавим предсказания всех деревьев в список\n",
        "predictions = []\n",
        "for tree in forest:\n",
        "    predictions.append(tree.predict(X_test[tree.feature_names_in_]))\n",
        "\n",
        "# сформируем список с предсказаниями для каждого объекта\n",
        "predictions_per_object = list(zip(*predictions))\n",
        "\n",
        "\n",
        "# выберем в качестве итогового предсказания для каждого объекта тот класс,\n",
        "# за который проголосовало большинство деревьев\n",
        "voted_predictions = []\n",
        "for obj in predictions_per_object:\n",
        "    voted_predictions.append(max(set(obj), key=obj.count))\n",
        "\n",
        "len(voted_predictions)"
      ],
      "metadata": {
        "colab": {
          "base_uri": "https://localhost:8080/"
        },
        "id": "jUxV4SKSmr71",
        "outputId": "a0a8b7b7-a82f-4cef-ef2c-540a8735d55a"
      },
      "execution_count": 180,
      "outputs": [
        {
          "output_type": "execute_result",
          "data": {
            "text/plain": [
              "1000"
            ]
          },
          "metadata": {},
          "execution_count": 180
        }
      ]
    },
    {
      "cell_type": "code",
      "source": [
        "accuracy_score(voted_predictions, y_test_binary)"
      ],
      "metadata": {
        "colab": {
          "base_uri": "https://localhost:8080/"
        },
        "id": "UAmqhthCpXMZ",
        "outputId": "db5d1718-59ec-4807-9495-4db799358b47"
      },
      "execution_count": 183,
      "outputs": [
        {
          "output_type": "execute_result",
          "data": {
            "text/plain": [
              "0.756"
            ]
          },
          "metadata": {},
          "execution_count": 183
        }
      ]
    }
  ],
  "metadata": {
    "anaconda-cloud": {},
    "celltoolbar": "Слайд-шоу",
    "colab": {
      "provenance": [],
      "include_colab_link": true
    },
    "kernelspec": {
      "display_name": "Python 3 (ipykernel)",
      "language": "python",
      "name": "python3"
    },
    "language_info": {
      "codemirror_mode": {
        "name": "ipython",
        "version": 3
      },
      "file_extension": ".py",
      "mimetype": "text/x-python",
      "name": "python",
      "nbconvert_exporter": "python",
      "pygments_lexer": "ipython3",
      "version": "3.8.10"
    },
    "livereveal": {
      "scroll": true,
      "theme": "simple",
      "transition": "convex"
    },
    "nbpresent": {
      "slides": {
        "1ffee25c-251f-4cbf-af3d-a1d5521081b9": {
          "id": "1ffee25c-251f-4cbf-af3d-a1d5521081b9",
          "prev": "eb43fa9f-eb7c-417b-ab1a-99371ff452e2",
          "regions": {
            "2e1a7b46-c253-4096-a0a5-dfbc6cfb086e": {
              "attrs": {
                "height": 0.8,
                "width": 0.8,
                "x": 0.1,
                "y": 0.1
              },
              "content": {
                "cell": "bf40e897-f1f8-4e69-b826-fe53fb761aad",
                "part": "whole"
              },
              "id": "2e1a7b46-c253-4096-a0a5-dfbc6cfb086e"
            }
          }
        },
        "37c43f64-6426-4a98-8de1-a6ca1dd72190": {
          "id": "37c43f64-6426-4a98-8de1-a6ca1dd72190",
          "prev": "d2b700ea-e44e-4bed-9ce4-ddf1532b44cb",
          "regions": {
            "45a20e24-b33f-4c55-8df2-e96075b5e2af": {
              "attrs": {
                "height": 0.8,
                "width": 0.8,
                "x": 0.1,
                "y": 0.1
              },
              "content": {
                "cell": "e730e690-97c9-4acd-bf81-4c5ab0bbd48e",
                "part": "whole"
              },
              "id": "45a20e24-b33f-4c55-8df2-e96075b5e2af"
            }
          }
        },
        "5bf0841a-23d1-413e-a557-911111e3e336": {
          "id": "5bf0841a-23d1-413e-a557-911111e3e336",
          "prev": "ebd3a807-2380-4bd6-8e58-c9424f3ed713",
          "regions": {
            "3c8adac9-5366-49e9-96ab-965c77e83485": {
              "attrs": {
                "height": 0.8,
                "width": 0.8,
                "x": 0.1,
                "y": 0.1
              },
              "content": {
                "cell": "2e08a439-2699-4ecf-9189-dfbbf745ad4e",
                "part": "whole"
              },
              "id": "3c8adac9-5366-49e9-96ab-965c77e83485"
            }
          }
        },
        "60ffd9bc-f20d-41e5-8771-5f11695177c6": {
          "id": "60ffd9bc-f20d-41e5-8771-5f11695177c6",
          "prev": "97575fe4-de27-4833-b616-7479f99519d0",
          "regions": {
            "807a955a-60c8-4f03-8734-54dfd52113d6": {
              "attrs": {
                "height": 0.8,
                "width": 0.8,
                "x": 0.1,
                "y": 0.1
              },
              "content": {
                "cell": "795c8121-f820-4edc-aeba-fc399b38f4b2",
                "part": "whole"
              },
              "id": "807a955a-60c8-4f03-8734-54dfd52113d6"
            }
          }
        },
        "623d8bc9-43df-451f-b862-76c2b54708ea": {
          "id": "623d8bc9-43df-451f-b862-76c2b54708ea",
          "prev": "eded54a5-7710-4ab6-8229-3ca4029d1ae7",
          "regions": {
            "42b1d4d4-2905-454b-b564-92f58dec8f81": {
              "attrs": {
                "height": 0.8,
                "width": 0.8,
                "x": 0.1,
                "y": 0.1
              },
              "content": {
                "cell": "16fd05b0-8ac8-4da2-8980-54d0d253d110",
                "part": "whole"
              },
              "id": "42b1d4d4-2905-454b-b564-92f58dec8f81"
            }
          }
        },
        "6dabcfe1-1c90-4893-8f01-c39e431f00bb": {
          "id": "6dabcfe1-1c90-4893-8f01-c39e431f00bb",
          "prev": "37c43f64-6426-4a98-8de1-a6ca1dd72190",
          "regions": {
            "1126b4c4-7df3-4db1-962b-abe099db9928": {
              "attrs": {
                "height": 0.8,
                "width": 0.8,
                "x": 0.1,
                "y": 0.1
              },
              "content": {
                "cell": "54519c05-1028-4e5c-a2d2-e21f821e99aa",
                "part": "whole"
              },
              "id": "1126b4c4-7df3-4db1-962b-abe099db9928"
            }
          }
        },
        "91753ba8-05fe-465f-806d-0faf4a21a031": {
          "id": "91753ba8-05fe-465f-806d-0faf4a21a031",
          "prev": "5bf0841a-23d1-413e-a557-911111e3e336",
          "regions": {
            "eb271beb-70d0-452e-b896-43695be4ae85": {
              "attrs": {
                "height": 0.8,
                "width": 0.8,
                "x": 0.1,
                "y": 0.1
              },
              "content": {
                "cell": "31cc3d04-22a5-4773-b4e1-abfb09f8bbc2",
                "part": "whole"
              },
              "id": "eb271beb-70d0-452e-b896-43695be4ae85"
            }
          }
        },
        "97575fe4-de27-4833-b616-7479f99519d0": {
          "id": "97575fe4-de27-4833-b616-7479f99519d0",
          "prev": "b8aebb38-1266-40c2-928a-026f9d33ec5c",
          "regions": {
            "01deb5d1-73e8-4d64-b93e-e7646647af3b": {
              "attrs": {
                "height": 0.8,
                "width": 0.8,
                "x": 0.1,
                "y": 0.1
              },
              "content": {
                "cell": "7f2bdffe-4f2a-446b-8805-d4fd262fced1",
                "part": "whole"
              },
              "id": "01deb5d1-73e8-4d64-b93e-e7646647af3b"
            }
          }
        },
        "9cc88d72-9ac9-4c24-96d5-abc94cea6e92": {
          "id": "9cc88d72-9ac9-4c24-96d5-abc94cea6e92",
          "prev": "1ffee25c-251f-4cbf-af3d-a1d5521081b9",
          "regions": {
            "78febecd-5100-493b-8f0d-0cc35ceae42e": {
              "attrs": {
                "height": 0.8,
                "width": 0.8,
                "x": 0.1,
                "y": 0.1
              },
              "content": {
                "cell": "bef00443-818c-4614-aa63-8a2e117462ec",
                "part": "whole"
              },
              "id": "78febecd-5100-493b-8f0d-0cc35ceae42e"
            }
          }
        },
        "a5df524d-67a8-4ae1-8258-9231728bdd14": {
          "id": "a5df524d-67a8-4ae1-8258-9231728bdd14",
          "prev": "623d8bc9-43df-451f-b862-76c2b54708ea",
          "regions": {
            "68e876ca-f943-4b2e-8268-439db992b310": {
              "attrs": {
                "height": 0.8,
                "width": 0.8,
                "x": 0.1,
                "y": 0.1
              },
              "content": {
                "cell": "40af6766-3ae3-4acc-8417-439eb8968553",
                "part": "whole"
              },
              "id": "68e876ca-f943-4b2e-8268-439db992b310"
            }
          }
        },
        "b62355d8-8b93-4dfc-8016-6548952c0f8c": {
          "id": "b62355d8-8b93-4dfc-8016-6548952c0f8c",
          "prev": "f59840cf-124e-4d10-8b89-3aafe98f38ba",
          "regions": {
            "381cc6bd-bde3-4d58-8277-99fbd69c7a4f": {
              "attrs": {
                "height": 0.8,
                "width": 0.8,
                "x": 0.1,
                "y": 0.1
              },
              "content": {
                "cell": "b92c1827-c799-44b9-b770-f45e95c917da",
                "part": "whole"
              },
              "id": "381cc6bd-bde3-4d58-8277-99fbd69c7a4f"
            }
          }
        },
        "b8aebb38-1266-40c2-928a-026f9d33ec5c": {
          "id": "b8aebb38-1266-40c2-928a-026f9d33ec5c",
          "prev": "9cc88d72-9ac9-4c24-96d5-abc94cea6e92",
          "regions": {
            "1bc2d24e-0782-443b-83a4-bc683c5ac6cb": {
              "attrs": {
                "height": 0.8,
                "width": 0.8,
                "x": 0.1,
                "y": 0.1
              },
              "content": {
                "cell": "cbb3d96a-fdd6-436e-86b6-1be446b43e84",
                "part": "whole"
              },
              "id": "1bc2d24e-0782-443b-83a4-bc683c5ac6cb"
            }
          }
        },
        "d2b700ea-e44e-4bed-9ce4-ddf1532b44cb": {
          "id": "d2b700ea-e44e-4bed-9ce4-ddf1532b44cb",
          "prev": "a5df524d-67a8-4ae1-8258-9231728bdd14",
          "regions": {
            "474bc80d-f262-4e62-afae-4565c0979e03": {
              "attrs": {
                "height": 0.8,
                "width": 0.8,
                "x": 0.1,
                "y": 0.1
              },
              "content": {
                "cell": "a67001a3-e51e-4a22-bdcd-249cde5581c1",
                "part": "whole"
              },
              "id": "474bc80d-f262-4e62-afae-4565c0979e03"
            }
          }
        },
        "d989978f-1d85-4802-953f-0e82f1a0fd51": {
          "id": "d989978f-1d85-4802-953f-0e82f1a0fd51",
          "prev": null,
          "regions": {
            "e3ddb97a-209b-4c70-91d7-df0cadcefb0d": {
              "attrs": {
                "height": 0.8,
                "width": 0.8,
                "x": 0.1,
                "y": 0.1
              },
              "content": {
                "cell": "13101ac1-2637-4d0f-9f1f-cd32215b02c3",
                "part": "whole"
              },
              "id": "e3ddb97a-209b-4c70-91d7-df0cadcefb0d"
            }
          }
        },
        "eb43fa9f-eb7c-417b-ab1a-99371ff452e2": {
          "id": "eb43fa9f-eb7c-417b-ab1a-99371ff452e2",
          "prev": "b62355d8-8b93-4dfc-8016-6548952c0f8c",
          "regions": {
            "b9415d21-f857-4a93-a788-c7dc51dedea0": {
              "attrs": {
                "height": 0.8,
                "width": 0.8,
                "x": 0.1,
                "y": 0.1
              },
              "content": {
                "cell": "e29b9590-fc86-46fd-83be-3ff48c7a8df4",
                "part": "whole"
              },
              "id": "b9415d21-f857-4a93-a788-c7dc51dedea0"
            }
          }
        },
        "ebd3a807-2380-4bd6-8e58-c9424f3ed713": {
          "id": "ebd3a807-2380-4bd6-8e58-c9424f3ed713",
          "prev": "f3fb61c6-f807-4942-8c41-0e80240a5146",
          "regions": {
            "7eaeb4e2-d47e-43e4-92c4-ed8cc1e9aac7": {
              "attrs": {
                "height": 0.8,
                "width": 0.8,
                "x": 0.1,
                "y": 0.1
              },
              "content": {
                "cell": "412353c7-42b2-42c7-8702-69568c809a97",
                "part": "whole"
              },
              "id": "7eaeb4e2-d47e-43e4-92c4-ed8cc1e9aac7"
            }
          }
        },
        "eded54a5-7710-4ab6-8229-3ca4029d1ae7": {
          "id": "eded54a5-7710-4ab6-8229-3ca4029d1ae7",
          "prev": "91753ba8-05fe-465f-806d-0faf4a21a031",
          "regions": {
            "816c3f73-4147-4cdb-b7d1-f5f82fa6003b": {
              "attrs": {
                "height": 0.8,
                "width": 0.8,
                "x": 0.1,
                "y": 0.1
              },
              "content": {
                "cell": "fa2d4b89-0d7a-41f1-8635-c5905d106cf3",
                "part": "whole"
              },
              "id": "816c3f73-4147-4cdb-b7d1-f5f82fa6003b"
            }
          }
        },
        "f3fb61c6-f807-4942-8c41-0e80240a5146": {
          "id": "f3fb61c6-f807-4942-8c41-0e80240a5146",
          "prev": "d989978f-1d85-4802-953f-0e82f1a0fd51",
          "regions": {
            "4f7abbfb-161b-44ce-bdab-05ef0b2a5542": {
              "attrs": {
                "height": 0.8,
                "width": 0.8,
                "x": 0.1,
                "y": 0.1
              },
              "content": {
                "cell": "8ce7bf3f-66e0-4462-a540-e87bceeadb7f",
                "part": "whole"
              },
              "id": "4f7abbfb-161b-44ce-bdab-05ef0b2a5542"
            }
          }
        },
        "f59840cf-124e-4d10-8b89-3aafe98f38ba": {
          "id": "f59840cf-124e-4d10-8b89-3aafe98f38ba",
          "prev": "6dabcfe1-1c90-4893-8f01-c39e431f00bb",
          "regions": {
            "e67fa4b9-f237-40ff-8621-fcdbfdd83101": {
              "attrs": {
                "height": 0.8,
                "width": 0.8,
                "x": 0.1,
                "y": 0.1
              },
              "content": {
                "cell": "4ae9a30c-81bc-4396-90d8-939a8e59f287",
                "part": "whole"
              },
              "id": "e67fa4b9-f237-40ff-8621-fcdbfdd83101"
            }
          }
        }
      },
      "themes": {
        "default": "c04eebe0-c348-41e9-bcfb-a65d4bd126df",
        "theme": {
          "c04eebe0-c348-41e9-bcfb-a65d4bd126df": {
            "id": "c04eebe0-c348-41e9-bcfb-a65d4bd126df",
            "palette": {
              "19cc588f-0593-49c9-9f4b-e4d7cc113b1c": {
                "id": "19cc588f-0593-49c9-9f4b-e4d7cc113b1c",
                "rgb": [
                  252,
                  252,
                  252
                ]
              },
              "31af15d2-7e15-44c5-ab5e-e04b16a89eff": {
                "id": "31af15d2-7e15-44c5-ab5e-e04b16a89eff",
                "rgb": [
                  68,
                  68,
                  68
                ]
              },
              "50f92c45-a630-455b-aec3-788680ec7410": {
                "id": "50f92c45-a630-455b-aec3-788680ec7410",
                "rgb": [
                  155,
                  177,
                  192
                ]
              },
              "c5cc3653-2ee1-402a-aba2-7caae1da4f6c": {
                "id": "c5cc3653-2ee1-402a-aba2-7caae1da4f6c",
                "rgb": [
                  43,
                  126,
                  184
                ]
              },
              "efa7f048-9acb-414c-8b04-a26811511a21": {
                "id": "efa7f048-9acb-414c-8b04-a26811511a21",
                "rgb": [
                  25.118061674008803,
                  73.60176211453744,
                  107.4819383259912
                ]
              }
            },
            "rules": {
              "blockquote": {
                "color": "50f92c45-a630-455b-aec3-788680ec7410"
              },
              "code": {
                "font-family": "Anonymous Pro"
              },
              "h1": {
                "color": "c5cc3653-2ee1-402a-aba2-7caae1da4f6c",
                "font-family": "Lato",
                "font-size": 8
              },
              "h2": {
                "color": "c5cc3653-2ee1-402a-aba2-7caae1da4f6c",
                "font-family": "Lato",
                "font-size": 6
              },
              "h3": {
                "color": "50f92c45-a630-455b-aec3-788680ec7410",
                "font-family": "Lato",
                "font-size": 5.5
              },
              "h4": {
                "color": "c5cc3653-2ee1-402a-aba2-7caae1da4f6c",
                "font-family": "Lato",
                "font-size": 5
              },
              "h5": {
                "font-family": "Lato"
              },
              "h6": {
                "font-family": "Lato"
              },
              "h7": {
                "font-family": "Lato"
              },
              "pre": {
                "font-family": "Anonymous Pro",
                "font-size": 4
              }
            },
            "text-base": {
              "font-family": "Merriweather",
              "font-size": 4
            }
          },
          "f0b95bb9-67a7-4d14-bf09-657a5b556dbe": {
            "id": "f0b95bb9-67a7-4d14-bf09-657a5b556dbe",
            "palette": {
              "19cc588f-0593-49c9-9f4b-e4d7cc113b1c": {
                "id": "19cc588f-0593-49c9-9f4b-e4d7cc113b1c",
                "rgb": [
                  252,
                  252,
                  252
                ]
              },
              "31af15d2-7e15-44c5-ab5e-e04b16a89eff": {
                "id": "31af15d2-7e15-44c5-ab5e-e04b16a89eff",
                "rgb": [
                  68,
                  68,
                  68
                ]
              },
              "50f92c45-a630-455b-aec3-788680ec7410": {
                "id": "50f92c45-a630-455b-aec3-788680ec7410",
                "rgb": [
                  155,
                  177,
                  192
                ]
              },
              "c5cc3653-2ee1-402a-aba2-7caae1da4f6c": {
                "id": "c5cc3653-2ee1-402a-aba2-7caae1da4f6c",
                "rgb": [
                  43,
                  126,
                  184
                ]
              },
              "efa7f048-9acb-414c-8b04-a26811511a21": {
                "id": "efa7f048-9acb-414c-8b04-a26811511a21",
                "rgb": [
                  25.118061674008803,
                  73.60176211453744,
                  107.4819383259912
                ]
              }
            },
            "rules": {
              "blockquote": {
                "color": "50f92c45-a630-455b-aec3-788680ec7410"
              },
              "code": {
                "font-family": "Anonymous Pro"
              },
              "h1": {
                "color": "c5cc3653-2ee1-402a-aba2-7caae1da4f6c",
                "font-family": "Lato",
                "font-size": 8
              },
              "h2": {
                "color": "c5cc3653-2ee1-402a-aba2-7caae1da4f6c",
                "font-family": "Lato",
                "font-size": 6
              },
              "h3": {
                "color": "50f92c45-a630-455b-aec3-788680ec7410",
                "font-family": "Lato",
                "font-size": 5.5
              },
              "h4": {
                "color": "c5cc3653-2ee1-402a-aba2-7caae1da4f6c",
                "font-family": "Lato",
                "font-size": 5
              },
              "h5": {
                "font-family": "Lato"
              },
              "h6": {
                "font-family": "Lato"
              },
              "h7": {
                "font-family": "Lato"
              },
              "pre": {
                "font-family": "Anonymous Pro",
                "font-size": 4
              }
            },
            "text-base": {
              "font-family": "Merriweather",
              "font-size": 4
            }
          }
        }
      }
    }
  },
  "nbformat": 4,
  "nbformat_minor": 0
}