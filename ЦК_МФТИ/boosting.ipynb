{
  "cells": [
    {
      "cell_type": "markdown",
      "metadata": {
        "id": "view-in-github",
        "colab_type": "text"
      },
      "source": [
        "<a href=\"https://colab.research.google.com/github/Macleyn/ML/blob/main/%D0%A6%D0%9A_%D0%9C%D0%A4%D0%A2%D0%98/boosting.ipynb\" target=\"_parent\"><img src=\"https://colab.research.google.com/assets/colab-badge.svg\" alt=\"Open In Colab\"/></a>"
      ]
    },
    {
      "cell_type": "code",
      "source": [
        "import numpy as np\n",
        "import pandas as pd\n",
        "import matplotlib.pyplot as plt\n",
        "from sklearn.model_selection import train_test_split\n",
        "from sklearn.preprocessing import OrdinalEncoder, OneHotEncoder, LabelEncoder\n",
        "from sklearn.ensemble import RandomForestClassifier\n",
        "from sklearn.metrics import f1_score, confusion_matrix, classification_report\n",
        "from sklearn.ensemble import GradientBoostingClassifier"
      ],
      "metadata": {
        "id": "ICqhLnJIRomW"
      },
      "execution_count": 63,
      "outputs": []
    },
    {
      "cell_type": "code",
      "source": [
        "!pip install catboost"
      ],
      "metadata": {
        "id": "aGRy6uVXL1dY"
      },
      "execution_count": null,
      "outputs": []
    },
    {
      "cell_type": "code",
      "source": [
        "df = pd.read_csv('WA_Fn-UseC_-Telco-Customer-Churn.csv')"
      ],
      "metadata": {
        "id": "dQe__7-NSbIm"
      },
      "execution_count": 65,
      "outputs": []
    },
    {
      "cell_type": "code",
      "source": [
        "df.head()"
      ],
      "metadata": {
        "colab": {
          "base_uri": "https://localhost:8080/",
          "height": 342
        },
        "id": "glqg2yOzSmZW",
        "outputId": "eab1ff0d-3e92-4e09-c4d8-3efdb5bbaca2"
      },
      "execution_count": 66,
      "outputs": [
        {
          "output_type": "execute_result",
          "data": {
            "text/plain": [
              "   customerID  gender  SeniorCitizen Partner Dependents  tenure PhoneService  \\\n",
              "0  7590-VHVEG  Female              0     Yes         No       1           No   \n",
              "1  5575-GNVDE    Male              0      No         No      34          Yes   \n",
              "2  3668-QPYBK    Male              0      No         No       2          Yes   \n",
              "3  7795-CFOCW    Male              0      No         No      45           No   \n",
              "4  9237-HQITU  Female              0      No         No       2          Yes   \n",
              "\n",
              "      MultipleLines InternetService OnlineSecurity  ... DeviceProtection  \\\n",
              "0  No phone service             DSL             No  ...               No   \n",
              "1                No             DSL            Yes  ...              Yes   \n",
              "2                No             DSL            Yes  ...               No   \n",
              "3  No phone service             DSL            Yes  ...              Yes   \n",
              "4                No     Fiber optic             No  ...               No   \n",
              "\n",
              "  TechSupport StreamingTV StreamingMovies        Contract PaperlessBilling  \\\n",
              "0          No          No              No  Month-to-month              Yes   \n",
              "1          No          No              No        One year               No   \n",
              "2          No          No              No  Month-to-month              Yes   \n",
              "3         Yes          No              No        One year               No   \n",
              "4          No          No              No  Month-to-month              Yes   \n",
              "\n",
              "               PaymentMethod MonthlyCharges  TotalCharges Churn  \n",
              "0           Electronic check          29.85         29.85    No  \n",
              "1               Mailed check          56.95        1889.5    No  \n",
              "2               Mailed check          53.85        108.15   Yes  \n",
              "3  Bank transfer (automatic)          42.30       1840.75    No  \n",
              "4           Electronic check          70.70        151.65   Yes  \n",
              "\n",
              "[5 rows x 21 columns]"
            ],
            "text/html": [
              "\n",
              "  <div id=\"df-2951afcd-489c-47a0-8dc2-c8140f5bac8a\" class=\"colab-df-container\">\n",
              "    <div>\n",
              "<style scoped>\n",
              "    .dataframe tbody tr th:only-of-type {\n",
              "        vertical-align: middle;\n",
              "    }\n",
              "\n",
              "    .dataframe tbody tr th {\n",
              "        vertical-align: top;\n",
              "    }\n",
              "\n",
              "    .dataframe thead th {\n",
              "        text-align: right;\n",
              "    }\n",
              "</style>\n",
              "<table border=\"1\" class=\"dataframe\">\n",
              "  <thead>\n",
              "    <tr style=\"text-align: right;\">\n",
              "      <th></th>\n",
              "      <th>customerID</th>\n",
              "      <th>gender</th>\n",
              "      <th>SeniorCitizen</th>\n",
              "      <th>Partner</th>\n",
              "      <th>Dependents</th>\n",
              "      <th>tenure</th>\n",
              "      <th>PhoneService</th>\n",
              "      <th>MultipleLines</th>\n",
              "      <th>InternetService</th>\n",
              "      <th>OnlineSecurity</th>\n",
              "      <th>...</th>\n",
              "      <th>DeviceProtection</th>\n",
              "      <th>TechSupport</th>\n",
              "      <th>StreamingTV</th>\n",
              "      <th>StreamingMovies</th>\n",
              "      <th>Contract</th>\n",
              "      <th>PaperlessBilling</th>\n",
              "      <th>PaymentMethod</th>\n",
              "      <th>MonthlyCharges</th>\n",
              "      <th>TotalCharges</th>\n",
              "      <th>Churn</th>\n",
              "    </tr>\n",
              "  </thead>\n",
              "  <tbody>\n",
              "    <tr>\n",
              "      <th>0</th>\n",
              "      <td>7590-VHVEG</td>\n",
              "      <td>Female</td>\n",
              "      <td>0</td>\n",
              "      <td>Yes</td>\n",
              "      <td>No</td>\n",
              "      <td>1</td>\n",
              "      <td>No</td>\n",
              "      <td>No phone service</td>\n",
              "      <td>DSL</td>\n",
              "      <td>No</td>\n",
              "      <td>...</td>\n",
              "      <td>No</td>\n",
              "      <td>No</td>\n",
              "      <td>No</td>\n",
              "      <td>No</td>\n",
              "      <td>Month-to-month</td>\n",
              "      <td>Yes</td>\n",
              "      <td>Electronic check</td>\n",
              "      <td>29.85</td>\n",
              "      <td>29.85</td>\n",
              "      <td>No</td>\n",
              "    </tr>\n",
              "    <tr>\n",
              "      <th>1</th>\n",
              "      <td>5575-GNVDE</td>\n",
              "      <td>Male</td>\n",
              "      <td>0</td>\n",
              "      <td>No</td>\n",
              "      <td>No</td>\n",
              "      <td>34</td>\n",
              "      <td>Yes</td>\n",
              "      <td>No</td>\n",
              "      <td>DSL</td>\n",
              "      <td>Yes</td>\n",
              "      <td>...</td>\n",
              "      <td>Yes</td>\n",
              "      <td>No</td>\n",
              "      <td>No</td>\n",
              "      <td>No</td>\n",
              "      <td>One year</td>\n",
              "      <td>No</td>\n",
              "      <td>Mailed check</td>\n",
              "      <td>56.95</td>\n",
              "      <td>1889.5</td>\n",
              "      <td>No</td>\n",
              "    </tr>\n",
              "    <tr>\n",
              "      <th>2</th>\n",
              "      <td>3668-QPYBK</td>\n",
              "      <td>Male</td>\n",
              "      <td>0</td>\n",
              "      <td>No</td>\n",
              "      <td>No</td>\n",
              "      <td>2</td>\n",
              "      <td>Yes</td>\n",
              "      <td>No</td>\n",
              "      <td>DSL</td>\n",
              "      <td>Yes</td>\n",
              "      <td>...</td>\n",
              "      <td>No</td>\n",
              "      <td>No</td>\n",
              "      <td>No</td>\n",
              "      <td>No</td>\n",
              "      <td>Month-to-month</td>\n",
              "      <td>Yes</td>\n",
              "      <td>Mailed check</td>\n",
              "      <td>53.85</td>\n",
              "      <td>108.15</td>\n",
              "      <td>Yes</td>\n",
              "    </tr>\n",
              "    <tr>\n",
              "      <th>3</th>\n",
              "      <td>7795-CFOCW</td>\n",
              "      <td>Male</td>\n",
              "      <td>0</td>\n",
              "      <td>No</td>\n",
              "      <td>No</td>\n",
              "      <td>45</td>\n",
              "      <td>No</td>\n",
              "      <td>No phone service</td>\n",
              "      <td>DSL</td>\n",
              "      <td>Yes</td>\n",
              "      <td>...</td>\n",
              "      <td>Yes</td>\n",
              "      <td>Yes</td>\n",
              "      <td>No</td>\n",
              "      <td>No</td>\n",
              "      <td>One year</td>\n",
              "      <td>No</td>\n",
              "      <td>Bank transfer (automatic)</td>\n",
              "      <td>42.30</td>\n",
              "      <td>1840.75</td>\n",
              "      <td>No</td>\n",
              "    </tr>\n",
              "    <tr>\n",
              "      <th>4</th>\n",
              "      <td>9237-HQITU</td>\n",
              "      <td>Female</td>\n",
              "      <td>0</td>\n",
              "      <td>No</td>\n",
              "      <td>No</td>\n",
              "      <td>2</td>\n",
              "      <td>Yes</td>\n",
              "      <td>No</td>\n",
              "      <td>Fiber optic</td>\n",
              "      <td>No</td>\n",
              "      <td>...</td>\n",
              "      <td>No</td>\n",
              "      <td>No</td>\n",
              "      <td>No</td>\n",
              "      <td>No</td>\n",
              "      <td>Month-to-month</td>\n",
              "      <td>Yes</td>\n",
              "      <td>Electronic check</td>\n",
              "      <td>70.70</td>\n",
              "      <td>151.65</td>\n",
              "      <td>Yes</td>\n",
              "    </tr>\n",
              "  </tbody>\n",
              "</table>\n",
              "<p>5 rows × 21 columns</p>\n",
              "</div>\n",
              "    <div class=\"colab-df-buttons\">\n",
              "\n",
              "  <div class=\"colab-df-container\">\n",
              "    <button class=\"colab-df-convert\" onclick=\"convertToInteractive('df-2951afcd-489c-47a0-8dc2-c8140f5bac8a')\"\n",
              "            title=\"Convert this dataframe to an interactive table.\"\n",
              "            style=\"display:none;\">\n",
              "\n",
              "  <svg xmlns=\"http://www.w3.org/2000/svg\" height=\"24px\" viewBox=\"0 -960 960 960\">\n",
              "    <path d=\"M120-120v-720h720v720H120Zm60-500h600v-160H180v160Zm220 220h160v-160H400v160Zm0 220h160v-160H400v160ZM180-400h160v-160H180v160Zm440 0h160v-160H620v160ZM180-180h160v-160H180v160Zm440 0h160v-160H620v160Z\"/>\n",
              "  </svg>\n",
              "    </button>\n",
              "\n",
              "  <style>\n",
              "    .colab-df-container {\n",
              "      display:flex;\n",
              "      gap: 12px;\n",
              "    }\n",
              "\n",
              "    .colab-df-convert {\n",
              "      background-color: #E8F0FE;\n",
              "      border: none;\n",
              "      border-radius: 50%;\n",
              "      cursor: pointer;\n",
              "      display: none;\n",
              "      fill: #1967D2;\n",
              "      height: 32px;\n",
              "      padding: 0 0 0 0;\n",
              "      width: 32px;\n",
              "    }\n",
              "\n",
              "    .colab-df-convert:hover {\n",
              "      background-color: #E2EBFA;\n",
              "      box-shadow: 0px 1px 2px rgba(60, 64, 67, 0.3), 0px 1px 3px 1px rgba(60, 64, 67, 0.15);\n",
              "      fill: #174EA6;\n",
              "    }\n",
              "\n",
              "    .colab-df-buttons div {\n",
              "      margin-bottom: 4px;\n",
              "    }\n",
              "\n",
              "    [theme=dark] .colab-df-convert {\n",
              "      background-color: #3B4455;\n",
              "      fill: #D2E3FC;\n",
              "    }\n",
              "\n",
              "    [theme=dark] .colab-df-convert:hover {\n",
              "      background-color: #434B5C;\n",
              "      box-shadow: 0px 1px 3px 1px rgba(0, 0, 0, 0.15);\n",
              "      filter: drop-shadow(0px 1px 2px rgba(0, 0, 0, 0.3));\n",
              "      fill: #FFFFFF;\n",
              "    }\n",
              "  </style>\n",
              "\n",
              "    <script>\n",
              "      const buttonEl =\n",
              "        document.querySelector('#df-2951afcd-489c-47a0-8dc2-c8140f5bac8a button.colab-df-convert');\n",
              "      buttonEl.style.display =\n",
              "        google.colab.kernel.accessAllowed ? 'block' : 'none';\n",
              "\n",
              "      async function convertToInteractive(key) {\n",
              "        const element = document.querySelector('#df-2951afcd-489c-47a0-8dc2-c8140f5bac8a');\n",
              "        const dataTable =\n",
              "          await google.colab.kernel.invokeFunction('convertToInteractive',\n",
              "                                                    [key], {});\n",
              "        if (!dataTable) return;\n",
              "\n",
              "        const docLinkHtml = 'Like what you see? Visit the ' +\n",
              "          '<a target=\"_blank\" href=https://colab.research.google.com/notebooks/data_table.ipynb>data table notebook</a>'\n",
              "          + ' to learn more about interactive tables.';\n",
              "        element.innerHTML = '';\n",
              "        dataTable['output_type'] = 'display_data';\n",
              "        await google.colab.output.renderOutput(dataTable, element);\n",
              "        const docLink = document.createElement('div');\n",
              "        docLink.innerHTML = docLinkHtml;\n",
              "        element.appendChild(docLink);\n",
              "      }\n",
              "    </script>\n",
              "  </div>\n",
              "\n",
              "\n",
              "<div id=\"df-14c4dc7a-bdcb-4f0c-b11e-e6471aa6692e\">\n",
              "  <button class=\"colab-df-quickchart\" onclick=\"quickchart('df-14c4dc7a-bdcb-4f0c-b11e-e6471aa6692e')\"\n",
              "            title=\"Suggest charts\"\n",
              "            style=\"display:none;\">\n",
              "\n",
              "<svg xmlns=\"http://www.w3.org/2000/svg\" height=\"24px\"viewBox=\"0 0 24 24\"\n",
              "     width=\"24px\">\n",
              "    <g>\n",
              "        <path d=\"M19 3H5c-1.1 0-2 .9-2 2v14c0 1.1.9 2 2 2h14c1.1 0 2-.9 2-2V5c0-1.1-.9-2-2-2zM9 17H7v-7h2v7zm4 0h-2V7h2v10zm4 0h-2v-4h2v4z\"/>\n",
              "    </g>\n",
              "</svg>\n",
              "  </button>\n",
              "\n",
              "<style>\n",
              "  .colab-df-quickchart {\n",
              "      --bg-color: #E8F0FE;\n",
              "      --fill-color: #1967D2;\n",
              "      --hover-bg-color: #E2EBFA;\n",
              "      --hover-fill-color: #174EA6;\n",
              "      --disabled-fill-color: #AAA;\n",
              "      --disabled-bg-color: #DDD;\n",
              "  }\n",
              "\n",
              "  [theme=dark] .colab-df-quickchart {\n",
              "      --bg-color: #3B4455;\n",
              "      --fill-color: #D2E3FC;\n",
              "      --hover-bg-color: #434B5C;\n",
              "      --hover-fill-color: #FFFFFF;\n",
              "      --disabled-bg-color: #3B4455;\n",
              "      --disabled-fill-color: #666;\n",
              "  }\n",
              "\n",
              "  .colab-df-quickchart {\n",
              "    background-color: var(--bg-color);\n",
              "    border: none;\n",
              "    border-radius: 50%;\n",
              "    cursor: pointer;\n",
              "    display: none;\n",
              "    fill: var(--fill-color);\n",
              "    height: 32px;\n",
              "    padding: 0;\n",
              "    width: 32px;\n",
              "  }\n",
              "\n",
              "  .colab-df-quickchart:hover {\n",
              "    background-color: var(--hover-bg-color);\n",
              "    box-shadow: 0 1px 2px rgba(60, 64, 67, 0.3), 0 1px 3px 1px rgba(60, 64, 67, 0.15);\n",
              "    fill: var(--button-hover-fill-color);\n",
              "  }\n",
              "\n",
              "  .colab-df-quickchart-complete:disabled,\n",
              "  .colab-df-quickchart-complete:disabled:hover {\n",
              "    background-color: var(--disabled-bg-color);\n",
              "    fill: var(--disabled-fill-color);\n",
              "    box-shadow: none;\n",
              "  }\n",
              "\n",
              "  .colab-df-spinner {\n",
              "    border: 2px solid var(--fill-color);\n",
              "    border-color: transparent;\n",
              "    border-bottom-color: var(--fill-color);\n",
              "    animation:\n",
              "      spin 1s steps(1) infinite;\n",
              "  }\n",
              "\n",
              "  @keyframes spin {\n",
              "    0% {\n",
              "      border-color: transparent;\n",
              "      border-bottom-color: var(--fill-color);\n",
              "      border-left-color: var(--fill-color);\n",
              "    }\n",
              "    20% {\n",
              "      border-color: transparent;\n",
              "      border-left-color: var(--fill-color);\n",
              "      border-top-color: var(--fill-color);\n",
              "    }\n",
              "    30% {\n",
              "      border-color: transparent;\n",
              "      border-left-color: var(--fill-color);\n",
              "      border-top-color: var(--fill-color);\n",
              "      border-right-color: var(--fill-color);\n",
              "    }\n",
              "    40% {\n",
              "      border-color: transparent;\n",
              "      border-right-color: var(--fill-color);\n",
              "      border-top-color: var(--fill-color);\n",
              "    }\n",
              "    60% {\n",
              "      border-color: transparent;\n",
              "      border-right-color: var(--fill-color);\n",
              "    }\n",
              "    80% {\n",
              "      border-color: transparent;\n",
              "      border-right-color: var(--fill-color);\n",
              "      border-bottom-color: var(--fill-color);\n",
              "    }\n",
              "    90% {\n",
              "      border-color: transparent;\n",
              "      border-bottom-color: var(--fill-color);\n",
              "    }\n",
              "  }\n",
              "</style>\n",
              "\n",
              "  <script>\n",
              "    async function quickchart(key) {\n",
              "      const quickchartButtonEl =\n",
              "        document.querySelector('#' + key + ' button');\n",
              "      quickchartButtonEl.disabled = true;  // To prevent multiple clicks.\n",
              "      quickchartButtonEl.classList.add('colab-df-spinner');\n",
              "      try {\n",
              "        const charts = await google.colab.kernel.invokeFunction(\n",
              "            'suggestCharts', [key], {});\n",
              "      } catch (error) {\n",
              "        console.error('Error during call to suggestCharts:', error);\n",
              "      }\n",
              "      quickchartButtonEl.classList.remove('colab-df-spinner');\n",
              "      quickchartButtonEl.classList.add('colab-df-quickchart-complete');\n",
              "    }\n",
              "    (() => {\n",
              "      let quickchartButtonEl =\n",
              "        document.querySelector('#df-14c4dc7a-bdcb-4f0c-b11e-e6471aa6692e button');\n",
              "      quickchartButtonEl.style.display =\n",
              "        google.colab.kernel.accessAllowed ? 'block' : 'none';\n",
              "    })();\n",
              "  </script>\n",
              "</div>\n",
              "    </div>\n",
              "  </div>\n"
            ],
            "application/vnd.google.colaboratory.intrinsic+json": {
              "type": "dataframe",
              "variable_name": "df"
            }
          },
          "metadata": {},
          "execution_count": 66
        }
      ]
    },
    {
      "cell_type": "code",
      "source": [
        "df = df.drop(columns=['customerID'])"
      ],
      "metadata": {
        "id": "u3mzKfFflXpB"
      },
      "execution_count": 67,
      "outputs": []
    },
    {
      "cell_type": "code",
      "source": [
        "numeric_cols = ['tenure', 'MonthlyCharges', 'TotalCharges']\n",
        "df[numeric_cols] = df[numeric_cols].apply(pd.to_numeric, errors='coerce').fillna(0)\n",
        "\n",
        "X = df.drop(columns=['Churn'])\n",
        "y = df['Churn']\n",
        "\n",
        "X_train, X_test, y_train, y_test = train_test_split(X, y, test_size=0.2, stratify=df['Churn'], random_state=42)\n",
        "\n",
        "label_encoder = LabelEncoder()\n",
        "y_train = label_encoder.fit_transform(y_train)\n",
        "y_test = label_encoder.transform(y_test)\n",
        "\n",
        "binary_cols = X_train.select_dtypes(include=['object']).columns[X_train.select_dtypes(include=['object']).nunique() == 2]\n",
        "categorical_cols = X_train.select_dtypes(include=['object']).columns[X_train.select_dtypes(include=['object']).nunique() > 2]"
      ],
      "metadata": {
        "id": "yqMdL53wLsX0"
      },
      "execution_count": 68,
      "outputs": []
    },
    {
      "cell_type": "code",
      "source": [
        "from catboost import CatBoostClassifier\n",
        "cat_features = np.concatenate([categorical_cols, binary_cols])\n",
        "catboost = CatBoostClassifier(random_state=1, n_estimators=100, cat_features = cat_features, verbose=100)\n",
        "catboost.fit(X_train, y_train)\n",
        "y_pred = catboost.predict(X_test)\n",
        "f1_score(y_test, y_pred, average='macro')"
      ],
      "metadata": {
        "colab": {
          "base_uri": "https://localhost:8080/"
        },
        "id": "D8L3gOtuLwss",
        "outputId": "d6e6cfbf-b0c4-4ed7-bbc3-8cbc7c3393ef"
      },
      "execution_count": 69,
      "outputs": [
        {
          "output_type": "stream",
          "name": "stdout",
          "text": [
            "Learning rate set to 0.178046\n",
            "0:\tlearn: 0.6314396\ttotal: 11.6ms\tremaining: 1.14s\n",
            "99:\tlearn: 0.3797422\ttotal: 1.85s\tremaining: 0us\n"
          ]
        },
        {
          "output_type": "execute_result",
          "data": {
            "text/plain": [
              "0.7347212452712657"
            ]
          },
          "metadata": {},
          "execution_count": 69
        }
      ]
    },
    {
      "cell_type": "code",
      "source": [
        "ordinal_encoder = OrdinalEncoder()\n",
        "X_train[binary_cols] = ordinal_encoder.fit_transform(X_train[binary_cols])\n",
        "X_test[binary_cols] = ordinal_encoder.transform(X_test[binary_cols])\n",
        "\n",
        "onehot_encoder = OneHotEncoder(sparse_output=False)\n",
        "onehot_train = onehot_encoder.fit_transform(X_train[categorical_cols])\n",
        "onehot_test = onehot_encoder.transform(X_test[categorical_cols])\n",
        "\n",
        "onehot_train_df = pd.DataFrame(onehot_train,\n",
        "                                 columns=onehot_encoder.get_feature_names_out(categorical_cols),\n",
        "                                 index=X_train.index)\n",
        "onehot_test_df = pd.DataFrame(onehot_test,\n",
        "                                columns=onehot_encoder.get_feature_names_out(categorical_cols),\n",
        "                                index=X_test.index)\n",
        "\n",
        "X_train = pd.concat([X_train.drop(columns=categorical_cols), onehot_train_df], axis=1)\n",
        "X_test = pd.concat([X_test.drop(columns=categorical_cols), onehot_test_df], axis=1)\n",
        "\n",
        "print(f\"Train shape: {X_train.shape}\")\n",
        "print(f\"Test shape: {X_test.shape}\")"
      ],
      "metadata": {
        "id": "ZVFoDAqPjB7g",
        "colab": {
          "base_uri": "https://localhost:8080/"
        },
        "outputId": "b2192f86-48aa-4791-8271-11b0bd3fe8a6"
      },
      "execution_count": 70,
      "outputs": [
        {
          "output_type": "stream",
          "name": "stdout",
          "text": [
            "Train shape: (5634, 40)\n",
            "Test shape: (1409, 40)\n"
          ]
        }
      ]
    },
    {
      "cell_type": "code",
      "source": [
        "model_rf = RandomForestClassifier(random_state=1)\n",
        "model_rf.fit(X_train, y_train)\n",
        "y_pred_rf = model_rf.predict(X_test)\n",
        "print(classification_report(y_test, y_pred_rf))"
      ],
      "metadata": {
        "id": "w2k5qEIo7vcD",
        "colab": {
          "base_uri": "https://localhost:8080/"
        },
        "outputId": "6eac7563-6510-4072-eea3-c80127e42161"
      },
      "execution_count": 71,
      "outputs": [
        {
          "output_type": "stream",
          "name": "stdout",
          "text": [
            "              precision    recall  f1-score   support\n",
            "\n",
            "           0       0.82      0.88      0.85      1035\n",
            "           1       0.60      0.48      0.53       374\n",
            "\n",
            "    accuracy                           0.78      1409\n",
            "   macro avg       0.71      0.68      0.69      1409\n",
            "weighted avg       0.76      0.78      0.77      1409\n",
            "\n"
          ]
        }
      ]
    },
    {
      "cell_type": "code",
      "source": [
        "model_gb = GradientBoostingClassifier(random_state=1)\n",
        "model_gb.fit(X_train, y_train)\n",
        "y_pred_gb = model_gb.predict(X_test)\n",
        "print(classification_report(y_test, y_pred_gb), )"
      ],
      "metadata": {
        "colab": {
          "base_uri": "https://localhost:8080/"
        },
        "id": "4bE6Hqxk_ERV",
        "outputId": "e902c2d4-daca-4fa9-e32d-f8e8ac5eef96"
      },
      "execution_count": 72,
      "outputs": [
        {
          "output_type": "stream",
          "name": "stdout",
          "text": [
            "              precision    recall  f1-score   support\n",
            "\n",
            "           0       0.84      0.91      0.87      1035\n",
            "           1       0.67      0.52      0.58       374\n",
            "\n",
            "    accuracy                           0.80      1409\n",
            "   macro avg       0.75      0.71      0.73      1409\n",
            "weighted avg       0.79      0.80      0.79      1409\n",
            "\n"
          ]
        }
      ]
    },
    {
      "cell_type": "code",
      "source": [
        "f1_score(y_test, y_pred_gb, average='macro') - f1_score(y_test, y_pred_rf, average='macro')"
      ],
      "metadata": {
        "colab": {
          "base_uri": "https://localhost:8080/"
        },
        "id": "ShD5_ZNxAUZE",
        "outputId": "aae039ad-f502-4773-e359-356e8f7aabee"
      },
      "execution_count": 73,
      "outputs": [
        {
          "output_type": "execute_result",
          "data": {
            "text/plain": [
              "0.033622194800940974"
            ]
          },
          "metadata": {},
          "execution_count": 73
        }
      ]
    },
    {
      "cell_type": "code",
      "source": [
        "f1_train = []\n",
        "f1_test = []\n",
        "depths = list(range(1, 21))\n",
        "\n",
        "for depth in depths:\n",
        "  model = GradientBoostingClassifier(max_depth=depth, random_state=1)\n",
        "  model.fit(X_train, y_train)\n",
        "  f1_train.append(f1_score(y_train, model.predict(X_train), average='macro'))\n",
        "  f1_test.append(f1_score(y_test, model.predict(X_test), average='macro'))\n"
      ],
      "metadata": {
        "id": "4NLN3lQje9aV"
      },
      "execution_count": 48,
      "outputs": []
    },
    {
      "cell_type": "code",
      "source": [
        "plt.figure(figsize=(10, 6))\n",
        "plt.plot(depths, f1_train, color='green', linestyle = '--')\n",
        "plt.plot(depths, f1_test, color='red', linestyle = '-')\n",
        "plt.xlabel('depths')\n",
        "plt.ylabel('f1')\n",
        "plt.legend(['train', 'test'])\n",
        "plt.grid()\n",
        "plt.show()"
      ],
      "metadata": {
        "colab": {
          "base_uri": "https://localhost:8080/",
          "height": 542
        },
        "id": "vsX6B5PXGQl9",
        "outputId": "a83f39f5-7fff-462f-91a7-0493ff13be0d"
      },
      "execution_count": 49,
      "outputs": [
        {
          "output_type": "display_data",
          "data": {
            "text/plain": [
              "<Figure size 1000x600 with 1 Axes>"
            ],
            "image/png": "[encoded data removed]"
          },
          "metadata": {}
        }
      ]
    },
    {
      "cell_type": "code",
      "source": [
        "f1_train = []\n",
        "f1_test = []\n",
        "rates = np.arange(0.1, 1, 0.1)\n",
        "\n",
        "for rate in rates:\n",
        "  model = GradientBoostingClassifier(learning_rate=rate, random_state=1)\n",
        "  model.fit(X_train, y_train)\n",
        "  f1_train.append(f1_score(y_train, model.predict(X_train), average='macro'))\n",
        "  f1_test.append(f1_score(y_test, model.predict(X_test), average='macro'))\n"
      ],
      "metadata": {
        "id": "PH6fAh-NJWvY"
      },
      "execution_count": 50,
      "outputs": []
    },
    {
      "cell_type": "code",
      "source": [
        "plt.figure(figsize=(10, 6))\n",
        "plt.plot(rates, f1_train, color='green', linestyle = '--')\n",
        "plt.plot(rates, f1_test, color='red', linestyle = '-')\n",
        "plt.xlabel('depths')\n",
        "plt.ylabel('f1')\n",
        "plt.legend(['train', 'test'])\n",
        "plt.grid()\n",
        "plt.show()"
      ],
      "metadata": {
        "colab": {
          "base_uri": "https://localhost:8080/",
          "height": 542
        },
        "id": "94BM8unGLNbS",
        "outputId": "d95f905a-4a1a-46bd-c682-30529378b3d4"
      },
      "execution_count": 51,
      "outputs": [
        {
          "output_type": "display_data",
          "data": {
            "text/plain": [
              "<Figure size 1000x600 with 1 Axes>"
            ],
            "image/png": "[encoded data removed]"
          },
          "metadata": {}
        }
      ]
    },
    {
      "cell_type": "code",
      "source": [
        "from sklearn.tree import DecisionTreeRegressor\n",
        "\n",
        "class GradientBoosting:\n",
        "    def __init__(self, n_estimators=100, learning_rate=0.1, max_depth=3):\n",
        "        self.n_estimators = n_estimators\n",
        "        self.learning_rate = learning_rate\n",
        "        self.max_depth = max_depth\n",
        "        self.trees = []\n",
        "        self.base_pred = None\n",
        "\n",
        "    def fit(self, X, y):\n",
        "        # Инициализация предсказаний как среднее значение целевой переменной\n",
        "        self.base_pred = np.mean(y)\n",
        "        y_hat = np.full_like(y, self.base_pred, dtype=float)\n",
        "        residuals = y - y_hat\n",
        "\n",
        "        for i in range(self.n_estimators):\n",
        "            # Обучение дерева на остатках\n",
        "            tree = DecisionTreeRegressor(\n",
        "                max_depth=self.max_depth,\n",
        "                random_state=i\n",
        "            )\n",
        "            tree.fit(X, residuals)\n",
        "            self.trees.append(tree)\n",
        "\n",
        "            # Получаем предсказание текущей моделью\n",
        "            predictions = tree.predict(X)\n",
        "\n",
        "            # Добавляем предсказание текущей модели в весь бустинг\n",
        "            y_hat += self.learning_rate * predictions\n",
        "            residuals = y - y_hat\n",
        "\n",
        "    def predict(self, X):\n",
        "        y_hat = np.full(X.shape[0], self.base_pred)\n",
        "        for tree in self.trees:\n",
        "            y_hat += self.learning_rate * tree.predict(X)\n",
        "        return np.where(y_hat > 0.5, 1, 0)  # Бинарная классификация"
      ],
      "metadata": {
        "id": "XjK_YcfWm14K"
      },
      "execution_count": 74,
      "outputs": []
    },
    {
      "cell_type": "code",
      "source": [
        "model = GradientBoosting(n_estimators=100, learning_rate=0.1, max_depth=3)\n",
        "model.fit(X_train, y_train)\n",
        "\n",
        "predictions = model.predict(X_test)\n",
        "f1_score(y_test, predictions, average='macro')"
      ],
      "metadata": {
        "colab": {
          "base_uri": "https://localhost:8080/"
        },
        "id": "Gtv3Ne2eBV57",
        "outputId": "05c58496-a5c7-4e1e-fb59-59369953c12b"
      },
      "execution_count": 75,
      "outputs": [
        {
          "output_type": "execute_result",
          "data": {
            "text/plain": [
              "0.7272111900603142"
            ]
          },
          "metadata": {},
          "execution_count": 75
        }
      ]
    }
  ],
  "metadata": {
    "anaconda-cloud": {},
    "celltoolbar": "Слайд-шоу",
    "colab": {
      "provenance": [],
      "include_colab_link": true
    },
    "kernelspec": {
      "display_name": "Python 3 (ipykernel)",
      "language": "python",
      "name": "python3"
    },
    "language_info": {
      "codemirror_mode": {
        "name": "ipython",
        "version": 3
      },
      "file_extension": ".py",
      "mimetype": "text/x-python",
      "name": "python",
      "nbconvert_exporter": "python",
      "pygments_lexer": "ipython3",
      "version": "3.8.10"
    },
    "livereveal": {
      "scroll": true,
      "theme": "simple",
      "transition": "convex"
    },
    "nbpresent": {
      "slides": {
        "1ffee25c-251f-4cbf-af3d-a1d5521081b9": {
          "id": "1ffee25c-251f-4cbf-af3d-a1d5521081b9",
          "prev": "eb43fa9f-eb7c-417b-ab1a-99371ff452e2",
          "regions": {
            "2e1a7b46-c253-4096-a0a5-dfbc6cfb086e": {
              "attrs": {
                "height": 0.8,
                "width": 0.8,
                "x": 0.1,
                "y": 0.1
              },
              "content": {
                "cell": "bf40e897-f1f8-4e69-b826-fe53fb761aad",
                "part": "whole"
              },
              "id": "2e1a7b46-c253-4096-a0a5-dfbc6cfb086e"
            }
          }
        },
        "37c43f64-6426-4a98-8de1-a6ca1dd72190": {
          "id": "37c43f64-6426-4a98-8de1-a6ca1dd72190",
          "prev": "d2b700ea-e44e-4bed-9ce4-ddf1532b44cb",
          "regions": {
            "45a20e24-b33f-4c55-8df2-e96075b5e2af": {
              "attrs": {
                "height": 0.8,
                "width": 0.8,
                "x": 0.1,
                "y": 0.1
              },
              "content": {
                "cell": "e730e690-97c9-4acd-bf81-4c5ab0bbd48e",
                "part": "whole"
              },
              "id": "45a20e24-b33f-4c55-8df2-e96075b5e2af"
            }
          }
        },
        "5bf0841a-23d1-413e-a557-911111e3e336": {
          "id": "5bf0841a-23d1-413e-a557-911111e3e336",
          "prev": "ebd3a807-2380-4bd6-8e58-c9424f3ed713",
          "regions": {
            "3c8adac9-5366-49e9-96ab-965c77e83485": {
              "attrs": {
                "height": 0.8,
                "width": 0.8,
                "x": 0.1,
                "y": 0.1
              },
              "content": {
                "cell": "2e08a439-2699-4ecf-9189-dfbbf745ad4e",
                "part": "whole"
              },
              "id": "3c8adac9-5366-49e9-96ab-965c77e83485"
            }
          }
        },
        "60ffd9bc-f20d-41e5-8771-5f11695177c6": {
          "id": "60ffd9bc-f20d-41e5-8771-5f11695177c6",
          "prev": "97575fe4-de27-4833-b616-7479f99519d0",
          "regions": {
            "807a955a-60c8-4f03-8734-54dfd52113d6": {
              "attrs": {
                "height": 0.8,
                "width": 0.8,
                "x": 0.1,
                "y": 0.1
              },
              "content": {
                "cell": "795c8121-f820-4edc-aeba-fc399b38f4b2",
                "part": "whole"
              },
              "id": "807a955a-60c8-4f03-8734-54dfd52113d6"
            }
          }
        },
        "623d8bc9-43df-451f-b862-76c2b54708ea": {
          "id": "623d8bc9-43df-451f-b862-76c2b54708ea",
          "prev": "eded54a5-7710-4ab6-8229-3ca4029d1ae7",
          "regions": {
            "42b1d4d4-2905-454b-b564-92f58dec8f81": {
              "attrs": {
                "height": 0.8,
                "width": 0.8,
                "x": 0.1,
                "y": 0.1
              },
              "content": {
                "cell": "16fd05b0-8ac8-4da2-8980-54d0d253d110",
                "part": "whole"
              },
              "id": "42b1d4d4-2905-454b-b564-92f58dec8f81"
            }
          }
        },
        "6dabcfe1-1c90-4893-8f01-c39e431f00bb": {
          "id": "6dabcfe1-1c90-4893-8f01-c39e431f00bb",
          "prev": "37c43f64-6426-4a98-8de1-a6ca1dd72190",
          "regions": {
            "1126b4c4-7df3-4db1-962b-abe099db9928": {
              "attrs": {
                "height": 0.8,
                "width": 0.8,
                "x": 0.1,
                "y": 0.1
              },
              "content": {
                "cell": "54519c05-1028-4e5c-a2d2-e21f821e99aa",
                "part": "whole"
              },
              "id": "1126b4c4-7df3-4db1-962b-abe099db9928"
            }
          }
        },
        "91753ba8-05fe-465f-806d-0faf4a21a031": {
          "id": "91753ba8-05fe-465f-806d-0faf4a21a031",
          "prev": "5bf0841a-23d1-413e-a557-911111e3e336",
          "regions": {
            "eb271beb-70d0-452e-b896-43695be4ae85": {
              "attrs": {
                "height": 0.8,
                "width": 0.8,
                "x": 0.1,
                "y": 0.1
              },
              "content": {
                "cell": "31cc3d04-22a5-4773-b4e1-abfb09f8bbc2",
                "part": "whole"
              },
              "id": "eb271beb-70d0-452e-b896-43695be4ae85"
            }
          }
        },
        "97575fe4-de27-4833-b616-7479f99519d0": {
          "id": "97575fe4-de27-4833-b616-7479f99519d0",
          "prev": "b8aebb38-1266-40c2-928a-026f9d33ec5c",
          "regions": {
            "01deb5d1-73e8-4d64-b93e-e7646647af3b": {
              "attrs": {
                "height": 0.8,
                "width": 0.8,
                "x": 0.1,
                "y": 0.1
              },
              "content": {
                "cell": "7f2bdffe-4f2a-446b-8805-d4fd262fced1",
                "part": "whole"
              },
              "id": "01deb5d1-73e8-4d64-b93e-e7646647af3b"
            }
          }
        },
        "9cc88d72-9ac9-4c24-96d5-abc94cea6e92": {
          "id": "9cc88d72-9ac9-4c24-96d5-abc94cea6e92",
          "prev": "1ffee25c-251f-4cbf-af3d-a1d5521081b9",
          "regions": {
            "78febecd-5100-493b-8f0d-0cc35ceae42e": {
              "attrs": {
                "height": 0.8,
                "width": 0.8,
                "x": 0.1,
                "y": 0.1
              },
              "content": {
                "cell": "bef00443-818c-4614-aa63-8a2e117462ec",
                "part": "whole"
              },
              "id": "78febecd-5100-493b-8f0d-0cc35ceae42e"
            }
          }
        },
        "a5df524d-67a8-4ae1-8258-9231728bdd14": {
          "id": "a5df524d-67a8-4ae1-8258-9231728bdd14",
          "prev": "623d8bc9-43df-451f-b862-76c2b54708ea",
          "regions": {
            "68e876ca-f943-4b2e-8268-439db992b310": {
              "attrs": {
                "height": 0.8,
                "width": 0.8,
                "x": 0.1,
                "y": 0.1
              },
              "content": {
                "cell": "40af6766-3ae3-4acc-8417-439eb8968553",
                "part": "whole"
              },
              "id": "68e876ca-f943-4b2e-8268-439db992b310"
            }
          }
        },
        "b62355d8-8b93-4dfc-8016-6548952c0f8c": {
          "id": "b62355d8-8b93-4dfc-8016-6548952c0f8c",
          "prev": "f59840cf-124e-4d10-8b89-3aafe98f38ba",
          "regions": {
            "381cc6bd-bde3-4d58-8277-99fbd69c7a4f": {
              "attrs": {
                "height": 0.8,
                "width": 0.8,
                "x": 0.1,
                "y": 0.1
              },
              "content": {
                "cell": "b92c1827-c799-44b9-b770-f45e95c917da",
                "part": "whole"
              },
              "id": "381cc6bd-bde3-4d58-8277-99fbd69c7a4f"
            }
          }
        },
        "b8aebb38-1266-40c2-928a-026f9d33ec5c": {
          "id": "b8aebb38-1266-40c2-928a-026f9d33ec5c",
          "prev": "9cc88d72-9ac9-4c24-96d5-abc94cea6e92",
          "regions": {
            "1bc2d24e-0782-443b-83a4-bc683c5ac6cb": {
              "attrs": {
                "height": 0.8,
                "width": 0.8,
                "x": 0.1,
                "y": 0.1
              },
              "content": {
                "cell": "cbb3d96a-fdd6-436e-86b6-1be446b43e84",
                "part": "whole"
              },
              "id": "1bc2d24e-0782-443b-83a4-bc683c5ac6cb"
            }
          }
        },
        "d2b700ea-e44e-4bed-9ce4-ddf1532b44cb": {
          "id": "d2b700ea-e44e-4bed-9ce4-ddf1532b44cb",
          "prev": "a5df524d-67a8-4ae1-8258-9231728bdd14",
          "regions": {
            "474bc80d-f262-4e62-afae-4565c0979e03": {
              "attrs": {
                "height": 0.8,
                "width": 0.8,
                "x": 0.1,
                "y": 0.1
              },
              "content": {
                "cell": "a67001a3-e51e-4a22-bdcd-249cde5581c1",
                "part": "whole"
              },
              "id": "474bc80d-f262-4e62-afae-4565c0979e03"
            }
          }
        },
        "d989978f-1d85-4802-953f-0e82f1a0fd51": {
          "id": "d989978f-1d85-4802-953f-0e82f1a0fd51",
          "prev": null,
          "regions": {
            "e3ddb97a-209b-4c70-91d7-df0cadcefb0d": {
              "attrs": {
                "height": 0.8,
                "width": 0.8,
                "x": 0.1,
                "y": 0.1
              },
              "content": {
                "cell": "13101ac1-2637-4d0f-9f1f-cd32215b02c3",
                "part": "whole"
              },
              "id": "e3ddb97a-209b-4c70-91d7-df0cadcefb0d"
            }
          }
        },
        "eb43fa9f-eb7c-417b-ab1a-99371ff452e2": {
          "id": "eb43fa9f-eb7c-417b-ab1a-99371ff452e2",
          "prev": "b62355d8-8b93-4dfc-8016-6548952c0f8c",
          "regions": {
            "b9415d21-f857-4a93-a788-c7dc51dedea0": {
              "attrs": {
                "height": 0.8,
                "width": 0.8,
                "x": 0.1,
                "y": 0.1
              },
              "content": {
                "cell": "e29b9590-fc86-46fd-83be-3ff48c7a8df4",
                "part": "whole"
              },
              "id": "b9415d21-f857-4a93-a788-c7dc51dedea0"
            }
          }
        },
        "ebd3a807-2380-4bd6-8e58-c9424f3ed713": {
          "id": "ebd3a807-2380-4bd6-8e58-c9424f3ed713",
          "prev": "f3fb61c6-f807-4942-8c41-0e80240a5146",
          "regions": {
            "7eaeb4e2-d47e-43e4-92c4-ed8cc1e9aac7": {
              "attrs": {
                "height": 0.8,
                "width": 0.8,
                "x": 0.1,
                "y": 0.1
              },
              "content": {
                "cell": "412353c7-42b2-42c7-8702-69568c809a97",
                "part": "whole"
              },
              "id": "7eaeb4e2-d47e-43e4-92c4-ed8cc1e9aac7"
            }
          }
        },
        "eded54a5-7710-4ab6-8229-3ca4029d1ae7": {
          "id": "eded54a5-7710-4ab6-8229-3ca4029d1ae7",
          "prev": "91753ba8-05fe-465f-806d-0faf4a21a031",
          "regions": {
            "816c3f73-4147-4cdb-b7d1-f5f82fa6003b": {
              "attrs": {
                "height": 0.8,
                "width": 0.8,
                "x": 0.1,
                "y": 0.1
              },
              "content": {
                "cell": "fa2d4b89-0d7a-41f1-8635-c5905d106cf3",
                "part": "whole"
              },
              "id": "816c3f73-4147-4cdb-b7d1-f5f82fa6003b"
            }
          }
        },
        "f3fb61c6-f807-4942-8c41-0e80240a5146": {
          "id": "f3fb61c6-f807-4942-8c41-0e80240a5146",
          "prev": "d989978f-1d85-4802-953f-0e82f1a0fd51",
          "regions": {
            "4f7abbfb-161b-44ce-bdab-05ef0b2a5542": {
              "attrs": {
                "height": 0.8,
                "width": 0.8,
                "x": 0.1,
                "y": 0.1
              },
              "content": {
                "cell": "8ce7bf3f-66e0-4462-a540-e87bceeadb7f",
                "part": "whole"
              },
              "id": "4f7abbfb-161b-44ce-bdab-05ef0b2a5542"
            }
          }
        },
        "f59840cf-124e-4d10-8b89-3aafe98f38ba": {
          "id": "f59840cf-124e-4d10-8b89-3aafe98f38ba",
          "prev": "6dabcfe1-1c90-4893-8f01-c39e431f00bb",
          "regions": {
            "e67fa4b9-f237-40ff-8621-fcdbfdd83101": {
              "attrs": {
                "height": 0.8,
                "width": 0.8,
                "x": 0.1,
                "y": 0.1
              },
              "content": {
                "cell": "4ae9a30c-81bc-4396-90d8-939a8e59f287",
                "part": "whole"
              },
              "id": "e67fa4b9-f237-40ff-8621-fcdbfdd83101"
            }
          }
        }
      },
      "themes": {
        "default": "c04eebe0-c348-41e9-bcfb-a65d4bd126df",
        "theme": {
          "c04eebe0-c348-41e9-bcfb-a65d4bd126df": {
            "id": "c04eebe0-c348-41e9-bcfb-a65d4bd126df",
            "palette": {
              "19cc588f-0593-49c9-9f4b-e4d7cc113b1c": {
                "id": "19cc588f-0593-49c9-9f4b-e4d7cc113b1c",
                "rgb": [
                  252,
                  252,
                  252
                ]
              },
              "31af15d2-7e15-44c5-ab5e-e04b16a89eff": {
                "id": "31af15d2-7e15-44c5-ab5e-e04b16a89eff",
                "rgb": [
                  68,
                  68,
                  68
                ]
              },
              "50f92c45-a630-455b-aec3-788680ec7410": {
                "id": "50f92c45-a630-455b-aec3-788680ec7410",
                "rgb": [
                  155,
                  177,
                  192
                ]
              },
              "c5cc3653-2ee1-402a-aba2-7caae1da4f6c": {
                "id": "c5cc3653-2ee1-402a-aba2-7caae1da4f6c",
                "rgb": [
                  43,
                  126,
                  184
                ]
              },
              "efa7f048-9acb-414c-8b04-a26811511a21": {
                "id": "efa7f048-9acb-414c-8b04-a26811511a21",
                "rgb": [
                  25.118061674008803,
                  73.60176211453744,
                  107.4819383259912
                ]
              }
            },
            "rules": {
              "blockquote": {
                "color": "50f92c45-a630-455b-aec3-788680ec7410"
              },
              "code": {
                "font-family": "Anonymous Pro"
              },
              "h1": {
                "color": "c5cc3653-2ee1-402a-aba2-7caae1da4f6c",
                "font-family": "Lato",
                "font-size": 8
              },
              "h2": {
                "color": "c5cc3653-2ee1-402a-aba2-7caae1da4f6c",
                "font-family": "Lato",
                "font-size": 6
              },
              "h3": {
                "color": "50f92c45-a630-455b-aec3-788680ec7410",
                "font-family": "Lato",
                "font-size": 5.5
              },
              "h4": {
                "color": "c5cc3653-2ee1-402a-aba2-7caae1da4f6c",
                "font-family": "Lato",
                "font-size": 5
              },
              "h5": {
                "font-family": "Lato"
              },
              "h6": {
                "font-family": "Lato"
              },
              "h7": {
                "font-family": "Lato"
              },
              "pre": {
                "font-family": "Anonymous Pro",
                "font-size": 4
              }
            },
            "text-base": {
              "font-family": "Merriweather",
              "font-size": 4
            }
          },
          "f0b95bb9-67a7-4d14-bf09-657a5b556dbe": {
            "id": "f0b95bb9-67a7-4d14-bf09-657a5b556dbe",
            "palette": {
              "19cc588f-0593-49c9-9f4b-e4d7cc113b1c": {
                "id": "19cc588f-0593-49c9-9f4b-e4d7cc113b1c",
                "rgb": [
                  252,
                  252,
                  252
                ]
              },
              "31af15d2-7e15-44c5-ab5e-e04b16a89eff": {
                "id": "31af15d2-7e15-44c5-ab5e-e04b16a89eff",
                "rgb": [
                  68,
                  68,
                  68
                ]
              },
              "50f92c45-a630-455b-aec3-788680ec7410": {
                "id": "50f92c45-a630-455b-aec3-788680ec7410",
                "rgb": [
                  155,
                  177,
                  192
                ]
              },
              "c5cc3653-2ee1-402a-aba2-7caae1da4f6c": {
                "id": "c5cc3653-2ee1-402a-aba2-7caae1da4f6c",
                "rgb": [
                  43,
                  126,
                  184
                ]
              },
              "efa7f048-9acb-414c-8b04-a26811511a21": {
                "id": "efa7f048-9acb-414c-8b04-a26811511a21",
                "rgb": [
                  25.118061674008803,
                  73.60176211453744,
                  107.4819383259912
                ]
              }
            },
            "rules": {
              "blockquote": {
                "color": "50f92c45-a630-455b-aec3-788680ec7410"
              },
              "code": {
                "font-family": "Anonymous Pro"
              },
              "h1": {
                "color": "c5cc3653-2ee1-402a-aba2-7caae1da4f6c",
                "font-family": "Lato",
                "font-size": 8
              },
              "h2": {
                "color": "c5cc3653-2ee1-402a-aba2-7caae1da4f6c",
                "font-family": "Lato",
                "font-size": 6
              },
              "h3": {
                "color": "50f92c45-a630-455b-aec3-788680ec7410",
                "font-family": "Lato",
                "font-size": 5.5
              },
              "h4": {
                "color": "c5cc3653-2ee1-402a-aba2-7caae1da4f6c",
                "font-family": "Lato",
                "font-size": 5
              },
              "h5": {
                "font-family": "Lato"
              },
              "h6": {
                "font-family": "Lato"
              },
              "h7": {
                "font-family": "Lato"
              },
              "pre": {
                "font-family": "Anonymous Pro",
                "font-size": 4
              }
            },
            "text-base": {
              "font-family": "Merriweather",
              "font-size": 4
            }
          }
        }
      }
    }
  },
  "nbformat": 4,
  "nbformat_minor": 0
}